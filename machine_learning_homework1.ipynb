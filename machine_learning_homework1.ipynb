{
  "nbformat": 4,
  "nbformat_minor": 0,
  "metadata": {
    "colab": {
      "provenance": [],
      "collapsed_sections": [],
      "authorship_tag": "ABX9TyOMsm52DxP+ZTS2z1L6ujGP",
      "include_colab_link": true
    },
    "kernelspec": {
      "name": "python3",
      "display_name": "Python 3"
    },
    "language_info": {
      "name": "python"
    }
  },
  "cells": [
    {
      "cell_type": "markdown",
      "metadata": {
        "id": "view-in-github",
        "colab_type": "text"
      },
      "source": [
        "<a href=\"https://colab.research.google.com/github/HanJaeHyeok23/MachineLearning/blob/main/machine_learning_homework1.ipynb\" target=\"_parent\"><img src=\"https://colab.research.google.com/assets/colab-badge.svg\" alt=\"Open In Colab\"/></a>"
      ]
    },
    {
      "cell_type": "markdown",
      "source": [
        "#기계학습 프로그래밍 과제1 (22/8/30)\n",
        "## 이상훈 교수님\n",
        "### 컴퓨터공학과 201835761 한재혁"
      ],
      "metadata": {
        "id": "fqAdrTca8rYK"
      }
    },
    {
      "cell_type": "markdown",
      "source": [
        "## 배열 생성"
      ],
      "metadata": {
        "id": "lpApO1nQuf7D"
      }
    },
    {
      "cell_type": "code",
      "source": [
        "from __future__ import division, print_function, unicode_literals\n",
        "import numpy as np;\n",
        "#모듈 임포드"
      ],
      "metadata": {
        "id": "XpVgBV6HoNir"
      },
      "execution_count": 1,
      "outputs": []
    },
    {
      "cell_type": "markdown",
      "source": [
        "#np. zeros"
      ],
      "metadata": {
        "id": "_2T59QsA-ENe"
      }
    },
    {
      "cell_type": "code",
      "source": [
        "np.zeros(10)"
      ],
      "metadata": {
        "colab": {
          "base_uri": "https://localhost:8080/"
        },
        "id": "-7oKNLv7uYle",
        "outputId": "f6325354-4380-4a34-d668-efb9141256f3"
      },
      "execution_count": 2,
      "outputs": [
        {
          "output_type": "execute_result",
          "data": {
            "text/plain": [
              "array([0., 0., 0., 0., 0., 0., 0., 0., 0., 0.])"
            ]
          },
          "metadata": {},
          "execution_count": 2
        }
      ]
    },
    {
      "cell_type": "code",
      "source": [
        "a= np.zeros((4,5))\n",
        "#행렬의 크기는 4*5\n",
        "a"
      ],
      "metadata": {
        "colab": {
          "base_uri": "https://localhost:8080/"
        },
        "id": "1T_UKbnctjup",
        "outputId": "fdeec866-3232-45e1-f7f4-501885000730"
      },
      "execution_count": 3,
      "outputs": [
        {
          "output_type": "execute_result",
          "data": {
            "text/plain": [
              "array([[0., 0., 0., 0., 0.],\n",
              "       [0., 0., 0., 0., 0.],\n",
              "       [0., 0., 0., 0., 0.],\n",
              "       [0., 0., 0., 0., 0.]])"
            ]
          },
          "metadata": {},
          "execution_count": 3
        }
      ]
    },
    {
      "cell_type": "code",
      "source": [
        "a.shape"
      ],
      "metadata": {
        "colab": {
          "base_uri": "https://localhost:8080/"
        },
        "id": "yndUAtGRt3C5",
        "outputId": "25d8f787-e74c-48d0-f871-634cb16a2ec8"
      },
      "execution_count": 4,
      "outputs": [
        {
          "output_type": "execute_result",
          "data": {
            "text/plain": [
              "(4, 5)"
            ]
          },
          "metadata": {},
          "execution_count": 4
        }
      ]
    },
    {
      "cell_type": "code",
      "source": [
        "a.ndim"
      ],
      "metadata": {
        "colab": {
          "base_uri": "https://localhost:8080/"
        },
        "id": "-uqeAbQ2uATT",
        "outputId": "15172e69-785d-44f0-c201-6503b0990b19"
      },
      "execution_count": 5,
      "outputs": [
        {
          "output_type": "execute_result",
          "data": {
            "text/plain": [
              "2"
            ]
          },
          "metadata": {},
          "execution_count": 5
        }
      ]
    },
    {
      "cell_type": "code",
      "source": [
        "a.size"
      ],
      "metadata": {
        "colab": {
          "base_uri": "https://localhost:8080/"
        },
        "id": "GxaGzC1IpxkQ",
        "outputId": "caa1464e-88d3-49ca-cbcb-6a8d4cd932a5"
      },
      "execution_count": 6,
      "outputs": [
        {
          "output_type": "execute_result",
          "data": {
            "text/plain": [
              "20"
            ]
          },
          "metadata": {},
          "execution_count": 6
        }
      ]
    },
    {
      "cell_type": "markdown",
      "source": [
        "# N-차원 배열"
      ],
      "metadata": {
        "id": "LlP2QHi1-XM0"
      }
    },
    {
      "cell_type": "code",
      "source": [
        "np.zeros((3,4,5))\n"
      ],
      "metadata": {
        "colab": {
          "base_uri": "https://localhost:8080/"
        },
        "id": "kMt05SD1uMHy",
        "outputId": "20e9edec-d719-44bd-a472-44e1e62231f5"
      },
      "execution_count": 7,
      "outputs": [
        {
          "output_type": "execute_result",
          "data": {
            "text/plain": [
              "array([[[0., 0., 0., 0., 0.],\n",
              "        [0., 0., 0., 0., 0.],\n",
              "        [0., 0., 0., 0., 0.],\n",
              "        [0., 0., 0., 0., 0.]],\n",
              "\n",
              "       [[0., 0., 0., 0., 0.],\n",
              "        [0., 0., 0., 0., 0.],\n",
              "        [0., 0., 0., 0., 0.],\n",
              "        [0., 0., 0., 0., 0.]],\n",
              "\n",
              "       [[0., 0., 0., 0., 0.],\n",
              "        [0., 0., 0., 0., 0.],\n",
              "        [0., 0., 0., 0., 0.],\n",
              "        [0., 0., 0., 0., 0.]]])"
            ]
          },
          "metadata": {},
          "execution_count": 7
        }
      ]
    },
    {
      "cell_type": "markdown",
      "source": [
        "# 배열 타입"
      ],
      "metadata": {
        "id": "n-lJe0Vw-p0h"
      }
    },
    {
      "cell_type": "code",
      "source": [
        "type(np.zeros((1,2)))"
      ],
      "metadata": {
        "colab": {
          "base_uri": "https://localhost:8080/"
        },
        "id": "a4CHrU7swE_i",
        "outputId": "edc7a98e-efb7-456c-f6b1-6469c897b3fd"
      },
      "execution_count": 8,
      "outputs": [
        {
          "output_type": "execute_result",
          "data": {
            "text/plain": [
              "numpy.ndarray"
            ]
          },
          "metadata": {},
          "execution_count": 8
        }
      ]
    },
    {
      "cell_type": "code",
      "source": [
        "np.ones((5,7))"
      ],
      "metadata": {
        "colab": {
          "base_uri": "https://localhost:8080/"
        },
        "id": "NG1niv-WwIJa",
        "outputId": "e452583e-c5af-41bb-b8cb-1fc6b5b0ca03"
      },
      "execution_count": 9,
      "outputs": [
        {
          "output_type": "execute_result",
          "data": {
            "text/plain": [
              "array([[1., 1., 1., 1., 1., 1., 1.],\n",
              "       [1., 1., 1., 1., 1., 1., 1.],\n",
              "       [1., 1., 1., 1., 1., 1., 1.],\n",
              "       [1., 1., 1., 1., 1., 1., 1.],\n",
              "       [1., 1., 1., 1., 1., 1., 1.]])"
            ]
          },
          "metadata": {},
          "execution_count": 9
        }
      ]
    },
    {
      "cell_type": "code",
      "source": [
        "np.full((1,2), np.pi)"
      ],
      "metadata": {
        "colab": {
          "base_uri": "https://localhost:8080/"
        },
        "id": "W1rnyAESwKF6",
        "outputId": "39f9d5f5-7b1c-4c44-e8d1-38eb4ea6d335"
      },
      "execution_count": 10,
      "outputs": [
        {
          "output_type": "execute_result",
          "data": {
            "text/plain": [
              "array([[3.14159265, 3.14159265]])"
            ]
          },
          "metadata": {},
          "execution_count": 10
        }
      ]
    },
    {
      "cell_type": "code",
      "source": [
        "np.empty((1,3))"
      ],
      "metadata": {
        "colab": {
          "base_uri": "https://localhost:8080/"
        },
        "id": "kqUilJUp0vSW",
        "outputId": "9030104a-6ed8-4284-814a-3b3c1408fc66"
      },
      "execution_count": 11,
      "outputs": [
        {
          "output_type": "execute_result",
          "data": {
            "text/plain": [
              "array([[0.75, 0.75, 0.  ]])"
            ]
          },
          "metadata": {},
          "execution_count": 11
        }
      ]
    },
    {
      "cell_type": "code",
      "source": [
        "np.array([[1,5,10,15], [100, 200, 300, 400]])"
      ],
      "metadata": {
        "colab": {
          "base_uri": "https://localhost:8080/"
        },
        "id": "5tkUJLl90z58",
        "outputId": "e2b2c78a-5515-4e34-ff9c-29becdaf1b3a"
      },
      "execution_count": 12,
      "outputs": [
        {
          "output_type": "execute_result",
          "data": {
            "text/plain": [
              "array([[  1,   5,  10,  15],\n",
              "       [100, 200, 300, 400]])"
            ]
          },
          "metadata": {},
          "execution_count": 12
        }
      ]
    },
    {
      "cell_type": "code",
      "source": [
        "np.arange(7, 13)"
      ],
      "metadata": {
        "colab": {
          "base_uri": "https://localhost:8080/"
        },
        "id": "hb06lKA203MV",
        "outputId": "75215ce2-d946-4625-e2ae-5c2777f3d7be"
      },
      "execution_count": 13,
      "outputs": [
        {
          "output_type": "execute_result",
          "data": {
            "text/plain": [
              "array([ 7,  8,  9, 10, 11, 12])"
            ]
          },
          "metadata": {},
          "execution_count": 13
        }
      ]
    },
    {
      "cell_type": "code",
      "source": [
        "np.arange(2.6, 3.4)"
      ],
      "metadata": {
        "colab": {
          "base_uri": "https://localhost:8080/"
        },
        "id": "GOwrK7EO06Ia",
        "outputId": "c38e1f0e-4916-4991-8a2f-f16c4004c176"
      },
      "execution_count": 14,
      "outputs": [
        {
          "output_type": "execute_result",
          "data": {
            "text/plain": [
              "array([2.6])"
            ]
          },
          "metadata": {},
          "execution_count": 14
        }
      ]
    },
    {
      "cell_type": "code",
      "source": [
        "np.arange(2, 13, 1.5)"
      ],
      "metadata": {
        "colab": {
          "base_uri": "https://localhost:8080/"
        },
        "id": "O1JfrfIe0_fR",
        "outputId": "8cced242-f98d-48ab-854f-0db8e4b6e3f0"
      },
      "execution_count": 15,
      "outputs": [
        {
          "output_type": "execute_result",
          "data": {
            "text/plain": [
              "array([ 2. ,  3.5,  5. ,  6.5,  8. ,  9.5, 11. , 12.5])"
            ]
          },
          "metadata": {},
          "execution_count": 15
        }
      ]
    },
    {
      "cell_type": "code",
      "source": [
        "print(np.arange(0, 8/3, 1/3)) # 부동 소수 오차 때문에, 최댓값은 4/3 또는 5/3이 됩니다.\n",
        "print(np.arange(0, 7/3, 0.33312323))\n",
        "print(np.arange(0, 10/3, 0.243234934))"
      ],
      "metadata": {
        "colab": {
          "base_uri": "https://localhost:8080/"
        },
        "id": "Y3gs9W8a1Du_",
        "outputId": "153e5811-22aa-4b00-b80d-b7531da40d64"
      },
      "execution_count": 16,
      "outputs": [
        {
          "output_type": "stream",
          "name": "stdout",
          "text": [
            "[0.         0.33333333 0.66666667 1.         1.33333333 1.66666667\n",
            " 2.         2.33333333]\n",
            "[0.         0.33312323 0.66624646 0.99936969 1.33249292 1.66561615\n",
            " 1.99873938 2.33186261]\n",
            "[0.         0.24323493 0.48646987 0.7297048  0.97293974 1.21617467\n",
            " 1.4594096  1.70264454 1.94587947 2.18911441 2.43234934 2.67558427\n",
            " 2.91881921 3.16205414]\n"
          ]
        }
      ]
    },
    {
      "cell_type": "code",
      "source": [
        "print(np.linspace(0, 7/3, 2))"
      ],
      "metadata": {
        "colab": {
          "base_uri": "https://localhost:8080/"
        },
        "id": "Z_MPeRbm1GzI",
        "outputId": "2ff72c49-776c-442b-bcbf-d2d8500ec639"
      },
      "execution_count": 17,
      "outputs": [
        {
          "output_type": "stream",
          "name": "stdout",
          "text": [
            "[0.         2.33333333]\n"
          ]
        }
      ]
    },
    {
      "cell_type": "code",
      "source": [
        "np.random.rand(7,2)"
      ],
      "metadata": {
        "colab": {
          "base_uri": "https://localhost:8080/"
        },
        "id": "GmO5iZyr1J7W",
        "outputId": "347d694d-deb3-405c-b54c-568a26ca3e0f"
      },
      "execution_count": 18,
      "outputs": [
        {
          "output_type": "execute_result",
          "data": {
            "text/plain": [
              "array([[0.63843576, 0.66532466],\n",
              "       [0.55725097, 0.16655401],\n",
              "       [0.30383635, 0.9194346 ],\n",
              "       [0.52265679, 0.96501867],\n",
              "       [0.02759365, 0.3471858 ],\n",
              "       [0.69737784, 0.51617872],\n",
              "       [0.50273953, 0.31196245]])"
            ]
          },
          "metadata": {},
          "execution_count": 18
        }
      ]
    },
    {
      "cell_type": "code",
      "source": [
        "np.random.randn(1,2)"
      ],
      "metadata": {
        "colab": {
          "base_uri": "https://localhost:8080/"
        },
        "id": "a4-hmXmF1Mru",
        "outputId": "529ad001-7604-407b-f511-795872728a44"
      },
      "execution_count": 19,
      "outputs": [
        {
          "output_type": "execute_result",
          "data": {
            "text/plain": [
              "array([[0.1362682 , 0.81842729]])"
            ]
          },
          "metadata": {},
          "execution_count": 19
        }
      ]
    },
    {
      "cell_type": "code",
      "source": [
        "%matplotlib inline\n",
        "import matplotlib.pyplot as plt\n",
        "#github 에서는 normed으로 되어있지만 현재는 density로 바뀌어 density로 적용했습니다."
      ],
      "metadata": {
        "id": "mdYrsZte1T5Y"
      },
      "execution_count": 20,
      "outputs": []
    },
    {
      "cell_type": "code",
      "source": [
        "plt.hist(np.random.rand(100000), density=True, bins=100, histtype=\"step\", color=\"blue\", label=\"rand\")\n",
        "plt.hist(np.random.randn(100000), density=True, bins=100, histtype=\"step\", color=\"red\", label=\"randn\")\n",
        "plt.axis([-2.5, 1.5, 0, 1.5])\n",
        "plt.legend(loc = \"upper right\")\n",
        "plt.title(\"Random distributions\")\n",
        "plt.xlabel(\"Value\")\n",
        "plt.ylabel(\"Density\")\n",
        "plt.show()"
      ],
      "metadata": {
        "colab": {
          "base_uri": "https://localhost:8080/",
          "height": 295
        },
        "id": "NxCTCHTZ1WbE",
        "outputId": "a2b5ef18-edd7-4d76-bcc7-a7053b40227e"
      },
      "execution_count": 21,
      "outputs": [
        {
          "output_type": "display_data",
          "data": {
            "text/plain": [
              "<Figure size 432x288 with 1 Axes>"
            ],
            "image/png": "[encoded data removed]"
          },
          "metadata": {
            "needs_background": "light"
          }
        }
      ]
    },
    {
      "cell_type": "code",
      "source": [
        "def my_function(z, y, x):\n",
        "    return x * y + z\n",
        "\n",
        "np.fromfunction(my_function, (1, 5, 10))\n"
      ],
      "metadata": {
        "colab": {
          "base_uri": "https://localhost:8080/"
        },
        "id": "r1_CpzTh1pi2",
        "outputId": "5cf4e27f-ff75-4973-e08f-b69fc21b3a16"
      },
      "execution_count": 22,
      "outputs": [
        {
          "output_type": "execute_result",
          "data": {
            "text/plain": [
              "array([[[ 0.,  0.,  0.,  0.,  0.,  0.,  0.,  0.,  0.,  0.],\n",
              "        [ 0.,  1.,  2.,  3.,  4.,  5.,  6.,  7.,  8.,  9.],\n",
              "        [ 0.,  2.,  4.,  6.,  8., 10., 12., 14., 16., 18.],\n",
              "        [ 0.,  3.,  6.,  9., 12., 15., 18., 21., 24., 27.],\n",
              "        [ 0.,  4.,  8., 12., 16., 20., 24., 28., 32., 36.]]])"
            ]
          },
          "metadata": {},
          "execution_count": 22
        }
      ]
    },
    {
      "cell_type": "markdown",
      "source": [
        "#배열 데이터"
      ],
      "metadata": {
        "id": "_2DUqARNBAmx"
      }
    },
    {
      "cell_type": "code",
      "source": [
        "c = np.arange(2, 13)\n",
        "print(c.dtype, c)"
      ],
      "metadata": {
        "colab": {
          "base_uri": "https://localhost:8080/"
        },
        "id": "S6cAgO6K1s6c",
        "outputId": "e2547b7f-3f2e-4938-93f6-848dbf87d543"
      },
      "execution_count": 23,
      "outputs": [
        {
          "output_type": "stream",
          "name": "stdout",
          "text": [
            "int64 [ 2  3  4  5  6  7  8  9 10 11 12]\n"
          ]
        }
      ]
    },
    {
      "cell_type": "code",
      "source": [
        "c = np.arange(1.3, 5.8)\n",
        "print(c.dtype, c)"
      ],
      "metadata": {
        "colab": {
          "base_uri": "https://localhost:8080/"
        },
        "id": "QRdBG-3c1vgE",
        "outputId": "404a1d70-5372-4ab0-80dc-991fb95743c5"
      },
      "execution_count": 24,
      "outputs": [
        {
          "output_type": "stream",
          "name": "stdout",
          "text": [
            "float64 [1.3 2.3 3.3 4.3 5.3]\n"
          ]
        }
      ]
    },
    {
      "cell_type": "code",
      "source": [
        "d = np.arange(3, 8, dtype=np.complex64)\n",
        "print(d.dtype, d)"
      ],
      "metadata": {
        "colab": {
          "base_uri": "https://localhost:8080/"
        },
        "id": "FPTxaKNq1yrJ",
        "outputId": "afcb6c89-1ee9-46be-fb96-573fbf73e9cc"
      },
      "execution_count": 25,
      "outputs": [
        {
          "output_type": "stream",
          "name": "stdout",
          "text": [
            "complex64 [3.+0.j 4.+0.j 5.+0.j 6.+0.j 7.+0.j]\n"
          ]
        }
      ]
    },
    {
      "cell_type": "code",
      "source": [
        "e = np.arange(3, 9, dtype=np.complex64)\n",
        "e.itemsize"
      ],
      "metadata": {
        "colab": {
          "base_uri": "https://localhost:8080/"
        },
        "id": "neNw4JWJ11BL",
        "outputId": "93d72ae1-abf7-4d35-a0b7-94adf639e08a"
      },
      "execution_count": 26,
      "outputs": [
        {
          "output_type": "execute_result",
          "data": {
            "text/plain": [
              "8"
            ]
          },
          "metadata": {},
          "execution_count": 26
        }
      ]
    },
    {
      "cell_type": "code",
      "source": [
        "f = np.array([[1,7],[2400, 7800]], dtype=np.int32)\n",
        "f.data"
      ],
      "metadata": {
        "colab": {
          "base_uri": "https://localhost:8080/"
        },
        "id": "Piyj75QU14eC",
        "outputId": "9fcc6634-20fe-4edd-85a0-0efdb5098ba2"
      },
      "execution_count": 27,
      "outputs": [
        {
          "output_type": "execute_result",
          "data": {
            "text/plain": [
              "<memory at 0x7feaaff09750>"
            ]
          },
          "metadata": {},
          "execution_count": 27
        }
      ]
    },
    {
      "cell_type": "code",
      "source": [
        "if (hasattr(f.data, \"tobytes\")):\n",
        "    data_bytes = f.data.tobytes() # python 3\n",
        "else:\n",
        "    data_bytes = memoryview(f.data).tobytes() # python 2\n",
        "\n",
        "data_bytes"
      ],
      "metadata": {
        "colab": {
          "base_uri": "https://localhost:8080/"
        },
        "id": "ghFVU-7E1_ql",
        "outputId": "3cd1b892-a28d-4e65-9aff-b9910200a455"
      },
      "execution_count": 28,
      "outputs": [
        {
          "output_type": "execute_result",
          "data": {
            "text/plain": [
              "b'\\x01\\x00\\x00\\x00\\x07\\x00\\x00\\x00`\\t\\x00\\x00x\\x1e\\x00\\x00'"
            ]
          },
          "metadata": {},
          "execution_count": 28
        }
      ]
    },
    {
      "cell_type": "code",
      "source": [
        "g = np.arange(12)\n",
        "print(g)\n",
        "print(\"랭크:\", g.ndim)"
      ],
      "metadata": {
        "colab": {
          "base_uri": "https://localhost:8080/"
        },
        "id": "LShCKmEA2DVI",
        "outputId": "36a1612d-c176-425e-bf37-7709d1b6873a"
      },
      "execution_count": 29,
      "outputs": [
        {
          "output_type": "stream",
          "name": "stdout",
          "text": [
            "[ 0  1  2  3  4  5  6  7  8  9 10 11]\n",
            "랭크: 1\n"
          ]
        }
      ]
    },
    {
      "cell_type": "code",
      "source": [
        "g.shape = (2,6)\n",
        "print(g)\n",
        "print(\"랭크:\", g.ndim)"
      ],
      "metadata": {
        "colab": {
          "base_uri": "https://localhost:8080/"
        },
        "id": "YZD6mgwI2F_J",
        "outputId": "718ecf7e-aba2-4b84-e1c5-1957e63050f8"
      },
      "execution_count": 30,
      "outputs": [
        {
          "output_type": "stream",
          "name": "stdout",
          "text": [
            "[[ 0  1  2  3  4  5]\n",
            " [ 6  7  8  9 10 11]]\n",
            "랭크: 2\n"
          ]
        }
      ]
    },
    {
      "cell_type": "code",
      "source": [
        "g.shape = (2, 3, 2)\n",
        "print(g)\n",
        "print(\"랭크:\", g.ndim)"
      ],
      "metadata": {
        "colab": {
          "base_uri": "https://localhost:8080/"
        },
        "id": "i_Kty5552IaV",
        "outputId": "c6aa6017-a3e4-4c69-bf4f-03f251e42b09"
      },
      "execution_count": 31,
      "outputs": [
        {
          "output_type": "stream",
          "name": "stdout",
          "text": [
            "[[[ 0  1]\n",
            "  [ 2  3]\n",
            "  [ 4  5]]\n",
            "\n",
            " [[ 6  7]\n",
            "  [ 8  9]\n",
            "  [10 11]]]\n",
            "랭크: 3\n"
          ]
        }
      ]
    },
    {
      "cell_type": "code",
      "source": [
        "g2 = g.reshape(6,2)\n",
        "print(g2)\n",
        "print(\"랭크:\", g2.ndim)"
      ],
      "metadata": {
        "colab": {
          "base_uri": "https://localhost:8080/"
        },
        "id": "U3ct0uQe2LLH",
        "outputId": "4996069b-f7a9-47ac-9a6f-2f1530696bb7"
      },
      "execution_count": 32,
      "outputs": [
        {
          "output_type": "stream",
          "name": "stdout",
          "text": [
            "[[ 0  1]\n",
            " [ 2  3]\n",
            " [ 4  5]\n",
            " [ 6  7]\n",
            " [ 8  9]\n",
            " [10 11]]\n",
            "랭크: 2\n"
          ]
        }
      ]
    },
    {
      "cell_type": "code",
      "source": [
        "g2[2, 1] = 800\n",
        "g2"
      ],
      "metadata": {
        "colab": {
          "base_uri": "https://localhost:8080/"
        },
        "id": "hz-_mibr2QmX",
        "outputId": "5726e18c-d9b7-49c4-f302-a476130e9602"
      },
      "execution_count": 33,
      "outputs": [
        {
          "output_type": "execute_result",
          "data": {
            "text/plain": [
              "array([[  0,   1],\n",
              "       [  2,   3],\n",
              "       [  4, 800],\n",
              "       [  6,   7],\n",
              "       [  8,   9],\n",
              "       [ 10,  11]])"
            ]
          },
          "metadata": {},
          "execution_count": 33
        }
      ]
    },
    {
      "cell_type": "code",
      "source": [
        "g"
      ],
      "metadata": {
        "colab": {
          "base_uri": "https://localhost:8080/"
        },
        "id": "HVQe54Bq2Sen",
        "outputId": "0391b345-9165-47ca-c611-ee5f06698124"
      },
      "execution_count": 34,
      "outputs": [
        {
          "output_type": "execute_result",
          "data": {
            "text/plain": [
              "array([[[  0,   1],\n",
              "        [  2,   3],\n",
              "        [  4, 800]],\n",
              "\n",
              "       [[  6,   7],\n",
              "        [  8,   9],\n",
              "        [ 10,  11]]])"
            ]
          },
          "metadata": {},
          "execution_count": 34
        }
      ]
    },
    {
      "cell_type": "code",
      "source": [
        "g.ravel()"
      ],
      "metadata": {
        "colab": {
          "base_uri": "https://localhost:8080/"
        },
        "id": "wrslfx3G2YJQ",
        "outputId": "d9353495-0a4d-435c-b83d-b6ce86b1feea"
      },
      "execution_count": 35,
      "outputs": [
        {
          "output_type": "execute_result",
          "data": {
            "text/plain": [
              "array([  0,   1,   2,   3,   4, 800,   6,   7,   8,   9,  10,  11])"
            ]
          },
          "metadata": {},
          "execution_count": 35
        }
      ]
    },
    {
      "cell_type": "markdown",
      "source": [
        "# 산술 연산"
      ],
      "metadata": {
        "id": "OdzzTMSXCSkH"
      }
    },
    {
      "cell_type": "code",
      "source": [
        "a = np.array([10, 23, 38, 56])\n",
        "b = np.array([1,  6,  0,  2])\n",
        "print(\"a + b  =\", a + b)\n",
        "print(\"a - b  =\", a - b)\n",
        "print(\"a * b  =\", a * b)\n",
        "print(\"a / b  =\", a / b)\n",
        "print(\"a // b  =\", a // b)\n",
        "print(\"a % b  =\", a % b)\n",
        "print(\"a ** b =\", a ** b)"
      ],
      "metadata": {
        "colab": {
          "base_uri": "https://localhost:8080/"
        },
        "id": "tLzxzY862YK1",
        "outputId": "4a479eae-1b4f-423c-b017-463462356b51"
      },
      "execution_count": 36,
      "outputs": [
        {
          "output_type": "stream",
          "name": "stdout",
          "text": [
            "a + b  = [11 29 38 58]\n",
            "a - b  = [ 9 17 38 54]\n",
            "a * b  = [ 10 138   0 112]\n",
            "a / b  = [10.          3.83333333         inf 28.        ]\n",
            "a // b  = [10  3  0 28]\n",
            "a % b  = [0 5 0 0]\n",
            "a ** b = [       10 148035889         1      3136]\n"
          ]
        },
        {
          "output_type": "stream",
          "name": "stderr",
          "text": [
            "/usr/local/lib/python3.7/dist-packages/ipykernel_launcher.py:6: RuntimeWarning: divide by zero encountered in true_divide\n",
            "  \n",
            "/usr/local/lib/python3.7/dist-packages/ipykernel_launcher.py:7: RuntimeWarning: divide by zero encountered in floor_divide\n",
            "  import sys\n",
            "/usr/local/lib/python3.7/dist-packages/ipykernel_launcher.py:8: RuntimeWarning: divide by zero encountered in remainder\n",
            "  \n"
          ]
        }
      ]
    },
    {
      "cell_type": "code",
      "source": [
        "h = np.arange(7).reshape(1, 1, 7)\n",
        "h"
      ],
      "metadata": {
        "colab": {
          "base_uri": "https://localhost:8080/"
        },
        "id": "cOQofP7S2jSR",
        "outputId": "95700d5f-43db-4bad-b7e4-7492372745b2"
      },
      "execution_count": 37,
      "outputs": [
        {
          "output_type": "execute_result",
          "data": {
            "text/plain": [
              "array([[[0, 1, 2, 3, 4, 5, 6]]])"
            ]
          },
          "metadata": {},
          "execution_count": 37
        }
      ]
    },
    {
      "cell_type": "code",
      "source": [
        "h + [1, 2, 3, 4, 5, 6, 7]  # 다음과 동일합니다: h + [[[10, "
      ],
      "metadata": {
        "colab": {
          "base_uri": "https://localhost:8080/"
        },
        "id": "5HJjY1BA2jay",
        "outputId": "b8434db9-2532-46d0-b2c9-e121aa1d4cf8"
      },
      "execution_count": 38,
      "outputs": [
        {
          "output_type": "execute_result",
          "data": {
            "text/plain": [
              "array([[[ 1,  3,  5,  7,  9, 11, 13]]])"
            ]
          },
          "metadata": {},
          "execution_count": 38
        }
      ]
    },
    {
      "cell_type": "code",
      "source": [
        "k = np.arange(8).reshape(4, 2)\n",
        "k"
      ],
      "metadata": {
        "colab": {
          "base_uri": "https://localhost:8080/"
        },
        "id": "HuAMmy202zXH",
        "outputId": "8cf1e218-69e5-445e-be11-b2abf1a13abe"
      },
      "execution_count": 39,
      "outputs": [
        {
          "output_type": "execute_result",
          "data": {
            "text/plain": [
              "array([[0, 1],\n",
              "       [2, 3],\n",
              "       [4, 5],\n",
              "       [6, 7]])"
            ]
          },
          "metadata": {},
          "execution_count": 39
        }
      ]
    },
    {
      "cell_type": "code",
      "source": [
        "k + [[23], [12], [14], [17]]  # 다음과 같습니다: k + [[100, 100, 100], [200, 200, 200]]"
      ],
      "metadata": {
        "colab": {
          "base_uri": "https://localhost:8080/"
        },
        "id": "LKBISNIE212N",
        "outputId": "8743553f-2795-4ea3-94ce-af348daf7115"
      },
      "execution_count": 40,
      "outputs": [
        {
          "output_type": "execute_result",
          "data": {
            "text/plain": [
              "array([[23, 24],\n",
              "       [14, 15],\n",
              "       [18, 19],\n",
              "       [23, 24]])"
            ]
          },
          "metadata": {},
          "execution_count": 40
        }
      ]
    },
    {
      "cell_type": "code",
      "source": [
        "k + [14, 25]  # 규칙 1 적용: [[100, 200, 300]], 규칙 2 적용: [[100, 200, 300], [100, 200, 300]]"
      ],
      "metadata": {
        "colab": {
          "base_uri": "https://localhost:8080/"
        },
        "id": "imFvJu_b24OX",
        "outputId": "8dae851f-80bc-4c57-8031-ee3e96f1d9fc"
      },
      "execution_count": 41,
      "outputs": [
        {
          "output_type": "execute_result",
          "data": {
            "text/plain": [
              "array([[14, 26],\n",
              "       [16, 28],\n",
              "       [18, 30],\n",
              "       [20, 32]])"
            ]
          },
          "metadata": {},
          "execution_count": 41
        }
      ]
    },
    {
      "cell_type": "code",
      "source": [
        "k + 3213  # 다음과 같습니다: k + [[1000, 1000, 1000], [1000, 1000, 1000]]"
      ],
      "metadata": {
        "colab": {
          "base_uri": "https://localhost:8080/"
        },
        "id": "hO4nvec727SU",
        "outputId": "b9fd005c-c649-469e-acbe-37247595386c"
      },
      "execution_count": 42,
      "outputs": [
        {
          "output_type": "execute_result",
          "data": {
            "text/plain": [
              "array([[3213, 3214],\n",
              "       [3215, 3216],\n",
              "       [3217, 3218],\n",
              "       [3219, 3220]])"
            ]
          },
          "metadata": {},
          "execution_count": 42
        }
      ]
    },
    {
      "cell_type": "code",
      "source": [
        "try:\n",
        "    k + [2, 16]\n",
        "except ValueError as e:\n",
        "    print(e)"
      ],
      "metadata": {
        "id": "t4dFTEVZ27Tw"
      },
      "execution_count": 43,
      "outputs": []
    },
    {
      "cell_type": "code",
      "source": [
        "k1 = np.arange(1,4 , dtype=np.uint8)\n",
        "print(k1.dtype, k1)"
      ],
      "metadata": {
        "colab": {
          "base_uri": "https://localhost:8080/"
        },
        "id": "xEq8pe8j3Aft",
        "outputId": "41d2b8f6-7f3a-413d-a850-e3a91b61c30d"
      },
      "execution_count": 44,
      "outputs": [
        {
          "output_type": "stream",
          "name": "stdout",
          "text": [
            "uint8 [1 2 3]\n"
          ]
        }
      ]
    },
    {
      "cell_type": "code",
      "source": [
        "k2 = k1 + np.array([12, 6, 1], dtype=np.int8)\n",
        "print(k2.dtype, k2)"
      ],
      "metadata": {
        "colab": {
          "base_uri": "https://localhost:8080/"
        },
        "id": "69kQgv2W3CUR",
        "outputId": "945782e0-8a9d-4c41-b3a7-f588b11cb74d"
      },
      "execution_count": 45,
      "outputs": [
        {
          "output_type": "stream",
          "name": "stdout",
          "text": [
            "int16 [13  8  4]\n"
          ]
        }
      ]
    },
    {
      "cell_type": "code",
      "source": [
        "k3 = k1 + 3.14\n",
        "print(k3.dtype, k3)"
      ],
      "metadata": {
        "colab": {
          "base_uri": "https://localhost:8080/"
        },
        "id": "lLa_9BkR3CVo",
        "outputId": "761296df-b145-4555-d734-f01a7398b7ab"
      },
      "execution_count": 46,
      "outputs": [
        {
          "output_type": "stream",
          "name": "stdout",
          "text": [
            "float64 [4.14 5.14 6.14]\n"
          ]
        }
      ]
    },
    {
      "cell_type": "markdown",
      "source": [
        "# 조건 연산자"
      ],
      "metadata": {
        "id": "UDDJzDu2FWTQ"
      }
    },
    {
      "cell_type": "code",
      "source": [
        "m = np.array([30, -4, 12, 76])\n",
        "m < [11, 13, 3, 36]"
      ],
      "metadata": {
        "colab": {
          "base_uri": "https://localhost:8080/"
        },
        "id": "Y-SfzYQE3G8N",
        "outputId": "dfebdebd-0d87-4a12-9a4f-3351d27330d8"
      },
      "execution_count": 47,
      "outputs": [
        {
          "output_type": "execute_result",
          "data": {
            "text/plain": [
              "array([False,  True, False, False])"
            ]
          },
          "metadata": {},
          "execution_count": 47
        }
      ]
    },
    {
      "cell_type": "code",
      "source": [
        "m < 38  # m < [25, 25, 25, 25] 와 동일"
      ],
      "metadata": {
        "colab": {
          "base_uri": "https://localhost:8080/"
        },
        "id": "XLo7TKu73I-v",
        "outputId": "15b5b1fa-de54-4e7f-b06f-d2e47918265a"
      },
      "execution_count": 48,
      "outputs": [
        {
          "output_type": "execute_result",
          "data": {
            "text/plain": [
              "array([ True,  True,  True, False])"
            ]
          },
          "metadata": {},
          "execution_count": 48
        }
      ]
    },
    {
      "cell_type": "code",
      "source": [
        "m[m < 1]"
      ],
      "metadata": {
        "colab": {
          "base_uri": "https://localhost:8080/"
        },
        "id": "ncGp7sbe3LGL",
        "outputId": "d3438c9b-3947-4ead-9fa8-dfc9e455c171"
      },
      "execution_count": 49,
      "outputs": [
        {
          "output_type": "execute_result",
          "data": {
            "text/plain": [
              "array([-4])"
            ]
          },
          "metadata": {},
          "execution_count": 49
        }
      ]
    },
    {
      "cell_type": "markdown",
      "source": [
        "# 수학 함수와 통계 함수"
      ],
      "metadata": {
        "id": "bF-q1sWBFuIj"
      }
    },
    {
      "cell_type": "code",
      "source": [
        "a = np.array([[-2.6, 3.2, 16], [5, 6, 7]])\n",
        "print(a)\n",
        "print(\"평균 =\", a.mean())"
      ],
      "metadata": {
        "colab": {
          "base_uri": "https://localhost:8080/"
        },
        "id": "EOfIYKAy3Nwe",
        "outputId": "92e71878-8880-4ad8-f890-a0d705669250"
      },
      "execution_count": 50,
      "outputs": [
        {
          "output_type": "stream",
          "name": "stdout",
          "text": [
            "[[-2.6  3.2 16. ]\n",
            " [ 5.   6.   7. ]]\n",
            "평균 = 5.766666666666667\n"
          ]
        }
      ]
    },
    {
      "cell_type": "code",
      "source": [
        "for func in (a.min, a.max, a.sum, a.prod, a.std, a.var):\n",
        "    print(func.__name__, \"=\", func())"
      ],
      "metadata": {
        "colab": {
          "base_uri": "https://localhost:8080/"
        },
        "id": "kliqCco63P2B",
        "outputId": "1a7e6c58-007a-445d-f78f-a1d3961c9466"
      },
      "execution_count": 51,
      "outputs": [
        {
          "output_type": "stream",
          "name": "stdout",
          "text": [
            "min = -2.6\n",
            "max = 16.0\n",
            "sum = 34.6\n",
            "prod = -27955.200000000004\n",
            "std = 5.5298181605626855\n",
            "var = 30.578888888888887\n"
          ]
        }
      ]
    },
    {
      "cell_type": "code",
      "source": [
        "c=np.arange(12).reshape(2,3,2)\n",
        "c"
      ],
      "metadata": {
        "colab": {
          "base_uri": "https://localhost:8080/"
        },
        "id": "BnbrZBSa3P3c",
        "outputId": "8aa94382-b5ce-46f8-8579-c0f4af2490fe"
      },
      "execution_count": 52,
      "outputs": [
        {
          "output_type": "execute_result",
          "data": {
            "text/plain": [
              "array([[[ 0,  1],\n",
              "        [ 2,  3],\n",
              "        [ 4,  5]],\n",
              "\n",
              "       [[ 6,  7],\n",
              "        [ 8,  9],\n",
              "        [10, 11]]])"
            ]
          },
          "metadata": {},
          "execution_count": 52
        }
      ]
    },
    {
      "cell_type": "code",
      "source": [
        "c.sum(axis=1)"
      ],
      "metadata": {
        "colab": {
          "base_uri": "https://localhost:8080/"
        },
        "id": "q8G3nbnm3UgE",
        "outputId": "ad1f1bf3-0690-4df7-f3b0-5ab0f340a9f1"
      },
      "execution_count": 53,
      "outputs": [
        {
          "output_type": "execute_result",
          "data": {
            "text/plain": [
              "array([[ 6,  9],\n",
              "       [24, 27]])"
            ]
          },
          "metadata": {},
          "execution_count": 53
        }
      ]
    },
    {
      "cell_type": "code",
      "source": [
        "c.sum(axis=0)"
      ],
      "metadata": {
        "colab": {
          "base_uri": "https://localhost:8080/"
        },
        "id": "VBwJ7ML83Uhp",
        "outputId": "8c1439cd-b5ba-4cd2-d581-8eac7ce02958"
      },
      "execution_count": 54,
      "outputs": [
        {
          "output_type": "execute_result",
          "data": {
            "text/plain": [
              "array([[ 6,  8],\n",
              "       [10, 12],\n",
              "       [14, 16]])"
            ]
          },
          "metadata": {},
          "execution_count": 54
        }
      ]
    },
    {
      "cell_type": "code",
      "source": [
        "c.sum(axis=(0,1))  "
      ],
      "metadata": {
        "colab": {
          "base_uri": "https://localhost:8080/"
        },
        "id": "yDmu54xX3YRY",
        "outputId": "f841cf6e-8001-4e54-bff4-91a42e1d156d"
      },
      "execution_count": 55,
      "outputs": [
        {
          "output_type": "execute_result",
          "data": {
            "text/plain": [
              "array([30, 36])"
            ]
          },
          "metadata": {},
          "execution_count": 55
        }
      ]
    },
    {
      "cell_type": "code",
      "source": [
        "7+13+2+6 + 10+11+17+9, 23+5+4+2 + 18+10+12+16, 7+10+5+4 "
      ],
      "metadata": {
        "colab": {
          "base_uri": "https://localhost:8080/"
        },
        "id": "SObxH2RJ3aa8",
        "outputId": "4aa9ce3f-44e0-4579-db23-814772822edd"
      },
      "execution_count": 56,
      "outputs": [
        {
          "output_type": "execute_result",
          "data": {
            "text/plain": [
              "(75, 90, 26)"
            ]
          },
          "metadata": {},
          "execution_count": 56
        }
      ]
    },
    {
      "cell_type": "markdown",
      "source": [
        "# 일반 함수\n"
      ],
      "metadata": {
        "id": "dAHRgANPG0Ac"
      }
    },
    {
      "cell_type": "code",
      "source": [
        "a = np.array([[-2.5, 3.1, 7], [10, 11, 12]])\n",
        "np.square(a)"
      ],
      "metadata": {
        "colab": {
          "base_uri": "https://localhost:8080/"
        },
        "id": "ZxYhCO_33acX",
        "outputId": "383fa2a9-e420-4464-f5af-43f12da76453"
      },
      "execution_count": 57,
      "outputs": [
        {
          "output_type": "execute_result",
          "data": {
            "text/plain": [
              "array([[  6.25,   9.61,  49.  ],\n",
              "       [100.  , 121.  , 144.  ]])"
            ]
          },
          "metadata": {},
          "execution_count": 57
        }
      ]
    },
    {
      "cell_type": "code",
      "source": [
        "print(\"원본 ndarray\")\n",
        "print(a)\n",
        "for func in (np.abs, np.sqrt, np.exp, np.log, np.sign, np.ceil, np.modf, np.isnan, np.cos):\n",
        "    print(\"\\n\", func.__name__)\n",
        "    print(func(a))\n"
      ],
      "metadata": {
        "colab": {
          "base_uri": "https://localhost:8080/"
        },
        "id": "5t7okQp53gea",
        "outputId": "5ca44880-19ed-495a-f62b-43b6cc39ad2b"
      },
      "execution_count": 58,
      "outputs": [
        {
          "output_type": "stream",
          "name": "stdout",
          "text": [
            "원본 ndarray\n",
            "[[-2.5  3.1  7. ]\n",
            " [10.  11.  12. ]]\n",
            "\n",
            " absolute\n",
            "[[ 2.5  3.1  7. ]\n",
            " [10.  11.  12. ]]\n",
            "\n",
            " sqrt\n",
            "[[       nan 1.76068169 2.64575131]\n",
            " [3.16227766 3.31662479 3.46410162]]\n",
            "\n",
            " exp\n",
            "[[8.20849986e-02 2.21979513e+01 1.09663316e+03]\n",
            " [2.20264658e+04 5.98741417e+04 1.62754791e+05]]\n",
            "\n",
            " log\n",
            "[[       nan 1.13140211 1.94591015]\n",
            " [2.30258509 2.39789527 2.48490665]]\n",
            "\n",
            " sign\n",
            "[[-1.  1.  1.]\n",
            " [ 1.  1.  1.]]\n",
            "\n",
            " ceil\n",
            "[[-2.  4.  7.]\n",
            " [10. 11. 12.]]\n",
            "\n",
            " modf\n",
            "(array([[-0.5,  0.1,  0. ],\n",
            "       [ 0. ,  0. ,  0. ]]), array([[-2.,  3.,  7.],\n",
            "       [10., 11., 12.]]))\n",
            "\n",
            " isnan\n",
            "[[False False False]\n",
            " [False False False]]\n",
            "\n",
            " cos\n",
            "[[-0.80114362 -0.99913515  0.75390225]\n",
            " [-0.83907153  0.0044257   0.84385396]]\n"
          ]
        },
        {
          "output_type": "stream",
          "name": "stderr",
          "text": [
            "/usr/local/lib/python3.7/dist-packages/ipykernel_launcher.py:5: RuntimeWarning: invalid value encountered in sqrt\n",
            "  \"\"\"\n",
            "/usr/local/lib/python3.7/dist-packages/ipykernel_launcher.py:5: RuntimeWarning: invalid value encountered in log\n",
            "  \"\"\"\n"
          ]
        }
      ]
    },
    {
      "cell_type": "markdown",
      "source": [
        "# 이항 일반 함수"
      ],
      "metadata": {
        "id": "Bi6snE2dWVQw"
      }
    },
    {
      "cell_type": "code",
      "source": [
        "a = np.array([1,6, 3, 4])\n",
        "b = np.array([2, 5, -1, 5])\n",
        "np.add(a, b)  # a + b 와 동일"
      ],
      "metadata": {
        "colab": {
          "base_uri": "https://localhost:8080/"
        },
        "id": "AzeILljY3ggG",
        "outputId": "07147cff-cc38-45f2-c590-444a1dfb1882"
      },
      "execution_count": 59,
      "outputs": [
        {
          "output_type": "execute_result",
          "data": {
            "text/plain": [
              "array([ 3, 11,  2,  9])"
            ]
          },
          "metadata": {},
          "execution_count": 59
        }
      ]
    },
    {
      "cell_type": "code",
      "source": [
        "np.greater(a, b)  # a > b 와 동일"
      ],
      "metadata": {
        "colab": {
          "base_uri": "https://localhost:8080/"
        },
        "id": "X0fBH0uj3l00",
        "outputId": "4fd77652-e449-428d-acd9-121c908db5ab"
      },
      "execution_count": 60,
      "outputs": [
        {
          "output_type": "execute_result",
          "data": {
            "text/plain": [
              "array([False,  True,  True, False])"
            ]
          },
          "metadata": {},
          "execution_count": 60
        }
      ]
    },
    {
      "cell_type": "code",
      "source": [
        "np.maximum(a, b)"
      ],
      "metadata": {
        "colab": {
          "base_uri": "https://localhost:8080/"
        },
        "id": "kBqaD2Yb3oHs",
        "outputId": "9127d4a0-99d5-4ae8-9599-6741458d9eb3"
      },
      "execution_count": 61,
      "outputs": [
        {
          "output_type": "execute_result",
          "data": {
            "text/plain": [
              "array([2, 6, 3, 5])"
            ]
          },
          "metadata": {},
          "execution_count": 61
        }
      ]
    },
    {
      "cell_type": "code",
      "source": [
        "np.copysign(a, b)"
      ],
      "metadata": {
        "colab": {
          "base_uri": "https://localhost:8080/"
        },
        "id": "Cnhorbxs3qTM",
        "outputId": "2b3c1928-08f7-43ca-f665-b6156f272d95"
      },
      "execution_count": 62,
      "outputs": [
        {
          "output_type": "execute_result",
          "data": {
            "text/plain": [
              "array([ 1.,  6., -3.,  4.])"
            ]
          },
          "metadata": {},
          "execution_count": 62
        }
      ]
    },
    {
      "cell_type": "markdown",
      "source": [
        "# 배열 인덱싱"
      ],
      "metadata": {
        "id": "kv8GWpp1WwCh"
      }
    },
    {
      "cell_type": "code",
      "source": [
        "a = np.array([1, 2, 6, 10, 11, 8, 3, 6])\n",
        "a[7]"
      ],
      "metadata": {
        "colab": {
          "base_uri": "https://localhost:8080/"
        },
        "id": "eUvUPG7Z3qUr",
        "outputId": "bff0a691-aca1-4c50-a717-bd056e544dad"
      },
      "execution_count": 63,
      "outputs": [
        {
          "output_type": "execute_result",
          "data": {
            "text/plain": [
              "6"
            ]
          },
          "metadata": {},
          "execution_count": 63
        }
      ]
    },
    {
      "cell_type": "code",
      "source": [
        "a[3:7]"
      ],
      "metadata": {
        "colab": {
          "base_uri": "https://localhost:8080/"
        },
        "id": "8aGkg3rf3uFL",
        "outputId": "d3f89b3b-11e2-41a1-8257-869ec3d4d4e5"
      },
      "execution_count": 64,
      "outputs": [
        {
          "output_type": "execute_result",
          "data": {
            "text/plain": [
              "array([10, 11,  8,  3])"
            ]
          },
          "metadata": {},
          "execution_count": 64
        }
      ]
    },
    {
      "cell_type": "code",
      "source": [
        "a[3:-2]"
      ],
      "metadata": {
        "colab": {
          "base_uri": "https://localhost:8080/"
        },
        "id": "u2lFeXos3uG_",
        "outputId": "b46a84d4-cf3b-46ae-c93b-c57e5c8ab987"
      },
      "execution_count": 65,
      "outputs": [
        {
          "output_type": "execute_result",
          "data": {
            "text/plain": [
              "array([10, 11,  8])"
            ]
          },
          "metadata": {},
          "execution_count": 65
        }
      ]
    },
    {
      "cell_type": "code",
      "source": [
        "a[:5]"
      ],
      "metadata": {
        "colab": {
          "base_uri": "https://localhost:8080/"
        },
        "id": "mq1t2uEp3yuJ",
        "outputId": "27f82179-49ed-429d-baea-3a20572a5dae"
      },
      "execution_count": 66,
      "outputs": [
        {
          "output_type": "execute_result",
          "data": {
            "text/plain": [
              "array([ 1,  2,  6, 10, 11])"
            ]
          },
          "metadata": {},
          "execution_count": 66
        }
      ]
    },
    {
      "cell_type": "code",
      "source": [
        "a[3::2]"
      ],
      "metadata": {
        "colab": {
          "base_uri": "https://localhost:8080/"
        },
        "id": "fgp2wkzs3yvr",
        "outputId": "cebbe135-7249-40db-bb9b-95a07d1076dc"
      },
      "execution_count": 67,
      "outputs": [
        {
          "output_type": "execute_result",
          "data": {
            "text/plain": [
              "array([10,  8,  6])"
            ]
          },
          "metadata": {},
          "execution_count": 67
        }
      ]
    },
    {
      "cell_type": "code",
      "source": [
        "a[::-4]"
      ],
      "metadata": {
        "colab": {
          "base_uri": "https://localhost:8080/"
        },
        "id": "-NKWCvmj33uv",
        "outputId": "da41620a-6092-443d-a153-9feef89bf320"
      },
      "execution_count": 68,
      "outputs": [
        {
          "output_type": "execute_result",
          "data": {
            "text/plain": [
              "array([ 6, 10])"
            ]
          },
          "metadata": {},
          "execution_count": 68
        }
      ]
    },
    {
      "cell_type": "code",
      "source": [
        "a[2]=740\n",
        "a"
      ],
      "metadata": {
        "colab": {
          "base_uri": "https://localhost:8080/"
        },
        "id": "p4ovcmTU33wX",
        "outputId": "e9947f08-3f6d-4b6b-ea0a-eaafa0ab6222"
      },
      "execution_count": 69,
      "outputs": [
        {
          "output_type": "execute_result",
          "data": {
            "text/plain": [
              "array([  1,   2, 740,  10,  11,   8,   3,   6])"
            ]
          },
          "metadata": {},
          "execution_count": 69
        }
      ]
    },
    {
      "cell_type": "code",
      "source": [
        "a[2:4] = [573, 234]\n",
        "a"
      ],
      "metadata": {
        "colab": {
          "base_uri": "https://localhost:8080/"
        },
        "id": "w9fQF-sD38Kr",
        "outputId": "6f85f4fe-2075-4f76-c175-e82a1913fab3"
      },
      "execution_count": 70,
      "outputs": [
        {
          "output_type": "execute_result",
          "data": {
            "text/plain": [
              "array([  1,   2, 573, 234,  11,   8,   3,   6])"
            ]
          },
          "metadata": {},
          "execution_count": 70
        }
      ]
    },
    {
      "cell_type": "code",
      "source": [
        "a[2:7] = 4\n",
        "a"
      ],
      "metadata": {
        "colab": {
          "base_uri": "https://localhost:8080/"
        },
        "id": "OxO3_iP938MY",
        "outputId": "7fa8417e-4e07-48ad-c7b1-093104603db5"
      },
      "execution_count": 71,
      "outputs": [
        {
          "output_type": "execute_result",
          "data": {
            "text/plain": [
              "array([1, 2, 4, 4, 4, 4, 4, 6])"
            ]
          },
          "metadata": {},
          "execution_count": 71
        }
      ]
    },
    {
      "cell_type": "code",
      "source": [
        "try:\n",
        "    a[2:4] = [1,6,3,5,7]  # 너무 길어요\n",
        "except ValueError as e:\n",
        "    print(e)"
      ],
      "metadata": {
        "colab": {
          "base_uri": "https://localhost:8080/"
        },
        "id": "pwjKvEGE4ALJ",
        "outputId": "91806ed6-64ed-40fb-888e-d42032ac7253"
      },
      "execution_count": 72,
      "outputs": [
        {
          "output_type": "stream",
          "name": "stdout",
          "text": [
            "could not broadcast input array from shape (5,) into shape (2,)\n"
          ]
        }
      ]
    },
    {
      "cell_type": "code",
      "source": [
        "try:\n",
        "    del a[2:4]\n",
        "except ValueError as e:\n",
        "    print(e)"
      ],
      "metadata": {
        "colab": {
          "base_uri": "https://localhost:8080/"
        },
        "id": "lB3E1r0w4AMy",
        "outputId": "31ada9ae-cc4d-46a4-f7b5-dae2a06654fc"
      },
      "execution_count": 73,
      "outputs": [
        {
          "output_type": "stream",
          "name": "stdout",
          "text": [
            "cannot delete array elements\n"
          ]
        }
      ]
    },
    {
      "cell_type": "code",
      "source": [
        "a_slice = a[1:5]\n",
        "a_slice[3] = 12\n",
        "a  # 원본 배열이 수정됩니다!"
      ],
      "metadata": {
        "colab": {
          "base_uri": "https://localhost:8080/"
        },
        "id": "88h2VvRJ4Faf",
        "outputId": "894f9e71-6425-458e-aa49-0c96d7ad507e"
      },
      "execution_count": 74,
      "outputs": [
        {
          "output_type": "execute_result",
          "data": {
            "text/plain": [
              "array([ 1,  2,  4,  4, 12,  4,  4,  6])"
            ]
          },
          "metadata": {},
          "execution_count": 74
        }
      ]
    },
    {
      "cell_type": "code",
      "source": [
        "a[4] = 23\n",
        "a_slice  # 비슷하게 원본 배열을 수정하면 슬라이싱 객체에도 반영됩니다"
      ],
      "metadata": {
        "colab": {
          "base_uri": "https://localhost:8080/"
        },
        "id": "D-TmnYK84HxB",
        "outputId": "5457e79f-66df-4225-8400-d5fba62e0853"
      },
      "execution_count": 75,
      "outputs": [
        {
          "output_type": "execute_result",
          "data": {
            "text/plain": [
              "array([ 2,  4,  4, 23])"
            ]
          },
          "metadata": {},
          "execution_count": 75
        }
      ]
    },
    {
      "cell_type": "code",
      "source": [
        "another_slice = a[1:4].copy()\n",
        "another_slice[2] = 300\n",
        "a  # 원본 배열이 수정되지 않습니다"
      ],
      "metadata": {
        "colab": {
          "base_uri": "https://localhost:8080/"
        },
        "id": "bLfD4juU4KvH",
        "outputId": "df39da69-d0d4-43e0-c97f-75e521b17d11"
      },
      "execution_count": 76,
      "outputs": [
        {
          "output_type": "execute_result",
          "data": {
            "text/plain": [
              "array([ 1,  2,  4,  4, 23,  4,  4,  6])"
            ]
          },
          "metadata": {},
          "execution_count": 76
        }
      ]
    },
    {
      "cell_type": "code",
      "source": [
        "a[7] = 40\n",
        "another_slice  # 마찬가지로 원본 배열을 수정해도 복사된 배열은 바뀌지 않습니다"
      ],
      "metadata": {
        "colab": {
          "base_uri": "https://localhost:8080/"
        },
        "id": "KP4msN6Q4NX7",
        "outputId": "7dadf93e-5fbb-44e0-e9fb-096abd6e0872"
      },
      "execution_count": 77,
      "outputs": [
        {
          "output_type": "execute_result",
          "data": {
            "text/plain": [
              "array([  2,   4, 300])"
            ]
          },
          "metadata": {},
          "execution_count": 77
        }
      ]
    },
    {
      "cell_type": "code",
      "source": [
        "b = np.arange(24).reshape(4, 6)\n",
        "b"
      ],
      "metadata": {
        "colab": {
          "base_uri": "https://localhost:8080/"
        },
        "id": "C1yWjt-H4Pho",
        "outputId": "b1a87579-d0f7-4c79-e31d-9f008af1df19"
      },
      "execution_count": 78,
      "outputs": [
        {
          "output_type": "execute_result",
          "data": {
            "text/plain": [
              "array([[ 0,  1,  2,  3,  4,  5],\n",
              "       [ 6,  7,  8,  9, 10, 11],\n",
              "       [12, 13, 14, 15, 16, 17],\n",
              "       [18, 19, 20, 21, 22, 23]])"
            ]
          },
          "metadata": {},
          "execution_count": 78
        }
      ]
    },
    {
      "cell_type": "code",
      "source": [
        "b[1, 5]  # 행 1, 열 2"
      ],
      "metadata": {
        "colab": {
          "base_uri": "https://localhost:8080/"
        },
        "id": "DovBKNAG4SbV",
        "outputId": "c9f48eae-a9b3-45a5-ff41-ff834b3ea90c"
      },
      "execution_count": 79,
      "outputs": [
        {
          "output_type": "execute_result",
          "data": {
            "text/plain": [
              "11"
            ]
          },
          "metadata": {},
          "execution_count": 79
        }
      ]
    },
    {
      "cell_type": "code",
      "source": [
        "b[0, :]  # 행 1, 모든 열"
      ],
      "metadata": {
        "colab": {
          "base_uri": "https://localhost:8080/"
        },
        "id": "INrhtPzq4UXF",
        "outputId": "245d319f-fbf7-4550-d1ca-6c16c1c9a6cd"
      },
      "execution_count": 80,
      "outputs": [
        {
          "output_type": "execute_result",
          "data": {
            "text/plain": [
              "array([0, 1, 2, 3, 4, 5])"
            ]
          },
          "metadata": {},
          "execution_count": 80
        }
      ]
    },
    {
      "cell_type": "code",
      "source": [
        "b[:, 2]  # 모든 행, 열 1"
      ],
      "metadata": {
        "colab": {
          "base_uri": "https://localhost:8080/"
        },
        "id": "YTXM8Hdk4UZA",
        "outputId": "8115fa60-259f-46d0-ebef-9f19cde5c843"
      },
      "execution_count": 81,
      "outputs": [
        {
          "output_type": "execute_result",
          "data": {
            "text/plain": [
              "array([ 2,  8, 14, 20])"
            ]
          },
          "metadata": {},
          "execution_count": 81
        }
      ]
    },
    {
      "cell_type": "code",
      "source": [
        "b[2, :]"
      ],
      "metadata": {
        "colab": {
          "base_uri": "https://localhost:8080/"
        },
        "id": "2gS025VM4ZW8",
        "outputId": "434af94d-b676-47b0-afec-5767ac843ab3"
      },
      "execution_count": 82,
      "outputs": [
        {
          "output_type": "execute_result",
          "data": {
            "text/plain": [
              "array([12, 13, 14, 15, 16, 17])"
            ]
          },
          "metadata": {},
          "execution_count": 82
        }
      ]
    },
    {
      "cell_type": "code",
      "source": [
        "b[2:3, :]"
      ],
      "metadata": {
        "colab": {
          "base_uri": "https://localhost:8080/"
        },
        "id": "oHWUHhMY4bGz",
        "outputId": "cca0b94a-95e9-445b-f1ff-11d76095a0b0"
      },
      "execution_count": 83,
      "outputs": [
        {
          "output_type": "execute_result",
          "data": {
            "text/plain": [
              "array([[12, 13, 14, 15, 16, 17]])"
            ]
          },
          "metadata": {},
          "execution_count": 83
        }
      ]
    },
    {
      "cell_type": "markdown",
      "source": [
        "# 팬시 인덱싱\n"
      ],
      "metadata": {
        "id": "QDNQ7njGjp9e"
      }
    },
    {
      "cell_type": "code",
      "source": [
        "b[(0,2), 2:7]  # 행 0과 2, 열 2에서 4(5-1)까지"
      ],
      "metadata": {
        "colab": {
          "base_uri": "https://localhost:8080/"
        },
        "id": "AyYGowPX4eTQ",
        "outputId": "79c55ab6-3d9b-45ab-e712-9329b442d78a"
      },
      "execution_count": 84,
      "outputs": [
        {
          "output_type": "execute_result",
          "data": {
            "text/plain": [
              "array([[ 2,  3,  4,  5],\n",
              "       [14, 15, 16, 17]])"
            ]
          },
          "metadata": {},
          "execution_count": 84
        }
      ]
    },
    {
      "cell_type": "code",
      "source": [
        "b[:, (1, 3, -1)]  # 모든 행, 열 -1 (마지막), 2와 -1 (다시 반대 방향으로)"
      ],
      "metadata": {
        "colab": {
          "base_uri": "https://localhost:8080/"
        },
        "id": "b-GtB1uy4gZn",
        "outputId": "1a539070-cf0b-4d9a-e11b-62d526cd0ae7"
      },
      "execution_count": 85,
      "outputs": [
        {
          "output_type": "execute_result",
          "data": {
            "text/plain": [
              "array([[ 1,  3,  5],\n",
              "       [ 7,  9, 11],\n",
              "       [13, 15, 17],\n",
              "       [19, 21, 23]])"
            ]
          },
          "metadata": {},
          "execution_count": 85
        }
      ]
    },
    {
      "cell_type": "code",
      "source": [
        "b[(-1, 2, -1), (5, 4, 1)]  # returns a 1D array with b[-1, 5], b[2, 9], b[-1, 1] and b[2, 9] (again)"
      ],
      "metadata": {
        "colab": {
          "base_uri": "https://localhost:8080/"
        },
        "id": "pNiXQJmo4ii-",
        "outputId": "7eb734dd-a1fc-4d4a-81d5-b811d8cc9080"
      },
      "execution_count": 86,
      "outputs": [
        {
          "output_type": "execute_result",
          "data": {
            "text/plain": [
              "array([23, 16, 19])"
            ]
          },
          "metadata": {},
          "execution_count": 86
        }
      ]
    },
    {
      "cell_type": "markdown",
      "source": [
        "# 고차원"
      ],
      "metadata": {
        "id": "QCZVx82v53vF"
      }
    },
    {
      "cell_type": "code",
      "source": [
        "c = b.reshape(2,4,3)\n",
        "c"
      ],
      "metadata": {
        "colab": {
          "base_uri": "https://localhost:8080/"
        },
        "id": "ZCHrmmJm4kvU",
        "outputId": "be5b9fd4-7128-436b-912b-e865c063b3a9"
      },
      "execution_count": 87,
      "outputs": [
        {
          "output_type": "execute_result",
          "data": {
            "text/plain": [
              "array([[[ 0,  1,  2],\n",
              "        [ 3,  4,  5],\n",
              "        [ 6,  7,  8],\n",
              "        [ 9, 10, 11]],\n",
              "\n",
              "       [[12, 13, 14],\n",
              "        [15, 16, 17],\n",
              "        [18, 19, 20],\n",
              "        [21, 22, 23]]])"
            ]
          },
          "metadata": {},
          "execution_count": 87
        }
      ]
    },
    {
      "cell_type": "code",
      "source": [
        "c[1, 1, 2]  # 행렬 2, 행 1, 열 4"
      ],
      "metadata": {
        "colab": {
          "base_uri": "https://localhost:8080/"
        },
        "id": "cLSm-DxW4m-P",
        "outputId": "5decad57-d601-4724-a2bb-ecfc926e39ed"
      },
      "execution_count": 88,
      "outputs": [
        {
          "output_type": "execute_result",
          "data": {
            "text/plain": [
              "17"
            ]
          },
          "metadata": {},
          "execution_count": 88
        }
      ]
    },
    {
      "cell_type": "code",
      "source": [
        "c[1, :, 2]  # 행렬 2, 모든 행, 열 3"
      ],
      "metadata": {
        "colab": {
          "base_uri": "https://localhost:8080/"
        },
        "id": "wr0U6KKV4pXG",
        "outputId": "fa35d859-1350-465f-f02d-29656302381e"
      },
      "execution_count": 89,
      "outputs": [
        {
          "output_type": "execute_result",
          "data": {
            "text/plain": [
              "array([14, 17, 20, 23])"
            ]
          },
          "metadata": {},
          "execution_count": 89
        }
      ]
    },
    {
      "cell_type": "code",
      "source": [
        "c[1, 1]  # 행렬 2, 행 1, 모든 열이 반환됩니다. c[2, 1, :]와 동일합니다."
      ],
      "metadata": {
        "colab": {
          "base_uri": "https://localhost:8080/"
        },
        "id": "TGkZdCq24uWF",
        "outputId": "67c414cb-36c5-4b24-e411-df890ef25bfa"
      },
      "execution_count": 90,
      "outputs": [
        {
          "output_type": "execute_result",
          "data": {
            "text/plain": [
              "array([15, 16, 17])"
            ]
          },
          "metadata": {},
          "execution_count": 90
        }
      ]
    },
    {
      "cell_type": "code",
      "source": [
        "c[1, ...]  #  행렬 2, 모든 행, 모든 열. c[2, :, :]와 동일"
      ],
      "metadata": {
        "colab": {
          "base_uri": "https://localhost:8080/"
        },
        "id": "IViqx7s64whJ",
        "outputId": "6ec4dbf3-caec-437d-e3a7-1e55bb3a1718"
      },
      "execution_count": 91,
      "outputs": [
        {
          "output_type": "execute_result",
          "data": {
            "text/plain": [
              "array([[12, 13, 14],\n",
              "       [15, 16, 17],\n",
              "       [18, 19, 20],\n",
              "       [21, 22, 23]])"
            ]
          },
          "metadata": {},
          "execution_count": 91
        }
      ]
    },
    {
      "cell_type": "code",
      "source": [
        "c[1, 1, ...]  # 행렬 2, 행 1, 모든 열. c[2, 1, :]와 동일"
      ],
      "metadata": {
        "colab": {
          "base_uri": "https://localhost:8080/"
        },
        "id": "FKvfSeXl4yob",
        "outputId": "82a05a45-bf1d-447f-9b6d-a7b375582ca9"
      },
      "execution_count": 92,
      "outputs": [
        {
          "output_type": "execute_result",
          "data": {
            "text/plain": [
              "array([15, 16, 17])"
            ]
          },
          "metadata": {},
          "execution_count": 92
        }
      ]
    },
    {
      "cell_type": "code",
      "source": [
        "c[1, ..., 2]  # 행렬 2, 모든 행, 열 3. c[2, :, 3]와 동일"
      ],
      "metadata": {
        "colab": {
          "base_uri": "https://localhost:8080/"
        },
        "id": "dz-Wl8Mq40xs",
        "outputId": "15bff41f-32c0-45c0-d9e4-c1f715798889"
      },
      "execution_count": 93,
      "outputs": [
        {
          "output_type": "execute_result",
          "data": {
            "text/plain": [
              "array([14, 17, 20, 23])"
            ]
          },
          "metadata": {},
          "execution_count": 93
        }
      ]
    },
    {
      "cell_type": "code",
      "source": [
        "c[..., 2]  # 모든 행렬, 모든 행, 열 3. c[:, :, 3]와 동일"
      ],
      "metadata": {
        "colab": {
          "base_uri": "https://localhost:8080/"
        },
        "id": "EiL-DtlN43M0",
        "outputId": "03e939f5-7c9b-4ed2-982a-e482ddf20808"
      },
      "execution_count": 94,
      "outputs": [
        {
          "output_type": "execute_result",
          "data": {
            "text/plain": [
              "array([[ 2,  5,  8, 11],\n",
              "       [14, 17, 20, 23]])"
            ]
          },
          "metadata": {},
          "execution_count": 94
        }
      ]
    },
    {
      "cell_type": "markdown",
      "source": [
        "#불리언 인덱싱"
      ],
      "metadata": {
        "id": "1xfhVyrW7WpZ"
      }
    },
    {
      "cell_type": "code",
      "source": [
        "b = np.arange(36).reshape(6, 6)\n",
        "b"
      ],
      "metadata": {
        "colab": {
          "base_uri": "https://localhost:8080/"
        },
        "id": "Hfrve29743Oy",
        "outputId": "5bbfd70d-3d1c-48cb-c227-99f9a872ee1a"
      },
      "execution_count": 95,
      "outputs": [
        {
          "output_type": "execute_result",
          "data": {
            "text/plain": [
              "array([[ 0,  1,  2,  3,  4,  5],\n",
              "       [ 6,  7,  8,  9, 10, 11],\n",
              "       [12, 13, 14, 15, 16, 17],\n",
              "       [18, 19, 20, 21, 22, 23],\n",
              "       [24, 25, 26, 27, 28, 29],\n",
              "       [30, 31, 32, 33, 34, 35]])"
            ]
          },
          "metadata": {},
          "execution_count": 95
        }
      ]
    },
    {
      "cell_type": "code",
      "source": [
        "rows_on = np.array([False, False, True, False])\n",
        "b[rows_on, :]  # 행 0과 2, 모든 열. b[(0, 2), :]와 동일"
      ],
      "metadata": {
        "colab": {
          "base_uri": "https://localhost:8080/",
          "height": 181
        },
        "id": "Umgo-RJK48LD",
        "outputId": "67eef745-e5b7-44fa-88c9-0714485ccccf"
      },
      "execution_count": 96,
      "outputs": [
        {
          "output_type": "error",
          "ename": "IndexError",
          "evalue": "ignored",
          "traceback": [
            "\u001b[0;31m---------------------------------------------------------------------------\u001b[0m",
            "\u001b[0;31mIndexError\u001b[0m                                Traceback (most recent call last)",
            "\u001b[0;32m<ipython-input-96-d633eb02a620>\u001b[0m in \u001b[0;36m<module>\u001b[0;34m\u001b[0m\n\u001b[1;32m      1\u001b[0m \u001b[0mrows_on\u001b[0m \u001b[0;34m=\u001b[0m \u001b[0mnp\u001b[0m\u001b[0;34m.\u001b[0m\u001b[0marray\u001b[0m\u001b[0;34m(\u001b[0m\u001b[0;34m[\u001b[0m\u001b[0;32mFalse\u001b[0m\u001b[0;34m,\u001b[0m \u001b[0;32mFalse\u001b[0m\u001b[0;34m,\u001b[0m \u001b[0;32mTrue\u001b[0m\u001b[0;34m,\u001b[0m \u001b[0;32mFalse\u001b[0m\u001b[0;34m]\u001b[0m\u001b[0;34m)\u001b[0m\u001b[0;34m\u001b[0m\u001b[0;34m\u001b[0m\u001b[0m\n\u001b[0;32m----> 2\u001b[0;31m \u001b[0mb\u001b[0m\u001b[0;34m[\u001b[0m\u001b[0mrows_on\u001b[0m\u001b[0;34m,\u001b[0m \u001b[0;34m:\u001b[0m\u001b[0;34m]\u001b[0m  \u001b[0;31m# 행 0과 2, 모든 열. b[(0, 2), :]와 동일\u001b[0m\u001b[0;34m\u001b[0m\u001b[0;34m\u001b[0m\u001b[0m\n\u001b[0m",
            "\u001b[0;31mIndexError\u001b[0m: boolean index did not match indexed array along dimension 0; dimension is 6 but corresponding boolean dimension is 4"
          ]
        }
      ]
    },
    {
      "cell_type": "code",
      "source": [
        "cols_on = np.array([False, True, False] * 3)\n",
        "b[:, cols_on]  # 모든 행, 열 1, 4, 7, 10"
      ],
      "metadata": {
        "id": "8ilD4HUF5C73"
      },
      "execution_count": null,
      "outputs": []
    },
    {
      "cell_type": "code",
      "source": [
        "b[np.ix_(rows_on, cols_on)]"
      ],
      "metadata": {
        "id": "SXrM5R4l5FPe"
      },
      "execution_count": null,
      "outputs": []
    },
    {
      "cell_type": "code",
      "source": [
        "np.ix_(rows_on, cols_on)"
      ],
      "metadata": {
        "id": "X7HIAV_V5HP2"
      },
      "execution_count": null,
      "outputs": []
    },
    {
      "cell_type": "code",
      "source": [
        "b[b % 14 == 3]"
      ],
      "metadata": {
        "id": "6A4ygNCo5JFr"
      },
      "execution_count": null,
      "outputs": []
    },
    {
      "cell_type": "markdown",
      "source": [
        "# 반복"
      ],
      "metadata": {
        "id": "ZJbR7RPZBdG-"
      }
    },
    {
      "cell_type": "code",
      "source": [
        "c = np.arange(36).reshape(2, 3, 6)  # 3D 배열 (두 개의 3x4 행렬로 구성됨)\n",
        "c"
      ],
      "metadata": {
        "colab": {
          "base_uri": "https://localhost:8080/"
        },
        "id": "es9mzPL45JIq",
        "outputId": "395d1459-7e84-448b-9cbe-1c5c34ce9efe"
      },
      "execution_count": 97,
      "outputs": [
        {
          "output_type": "execute_result",
          "data": {
            "text/plain": [
              "array([[[ 0,  1,  2,  3,  4,  5],\n",
              "        [ 6,  7,  8,  9, 10, 11],\n",
              "        [12, 13, 14, 15, 16, 17]],\n",
              "\n",
              "       [[18, 19, 20, 21, 22, 23],\n",
              "        [24, 25, 26, 27, 28, 29],\n",
              "        [30, 31, 32, 33, 34, 35]]])"
            ]
          },
          "metadata": {},
          "execution_count": 97
        }
      ]
    },
    {
      "cell_type": "code",
      "source": [
        "for m in c:\n",
        "    print(\"아이템:\")\n",
        "    print(m)"
      ],
      "metadata": {
        "colab": {
          "base_uri": "https://localhost:8080/"
        },
        "id": "VTCIpuSw5Nc-",
        "outputId": "b4fc705d-1944-4239-91ec-57cad1b4549c"
      },
      "execution_count": 98,
      "outputs": [
        {
          "output_type": "stream",
          "name": "stdout",
          "text": [
            "아이템:\n",
            "[[ 0  1  2  3  4  5]\n",
            " [ 6  7  8  9 10 11]\n",
            " [12 13 14 15 16 17]]\n",
            "아이템:\n",
            "[[18 19 20 21 22 23]\n",
            " [24 25 26 27 28 29]\n",
            " [30 31 32 33 34 35]]\n"
          ]
        }
      ]
    },
    {
      "cell_type": "code",
      "source": [
        "for i in range(len(c)):  # len(c) == c.shape[0]\n",
        "    print(\"아이템:\")\n",
        "    print(c[i])"
      ],
      "metadata": {
        "id": "yZ3lJNgh5Qon",
        "colab": {
          "base_uri": "https://localhost:8080/"
        },
        "outputId": "39f3d67e-fc0c-432b-8141-eb48eb98b421"
      },
      "execution_count": 99,
      "outputs": [
        {
          "output_type": "stream",
          "name": "stdout",
          "text": [
            "아이템:\n",
            "[[ 0  1  2  3  4  5]\n",
            " [ 6  7  8  9 10 11]\n",
            " [12 13 14 15 16 17]]\n",
            "아이템:\n",
            "[[18 19 20 21 22 23]\n",
            " [24 25 26 27 28 29]\n",
            " [30 31 32 33 34 35]]\n"
          ]
        }
      ]
    },
    {
      "cell_type": "code",
      "source": [
        "for i in c.flat:\n",
        "    print(\"아이템:\", i)"
      ],
      "metadata": {
        "id": "A34XDrBr5S2h",
        "colab": {
          "base_uri": "https://localhost:8080/"
        },
        "outputId": "74f195be-b27a-462a-f544-63b9456e1f1f"
      },
      "execution_count": 100,
      "outputs": [
        {
          "output_type": "stream",
          "name": "stdout",
          "text": [
            "아이템: 0\n",
            "아이템: 1\n",
            "아이템: 2\n",
            "아이템: 3\n",
            "아이템: 4\n",
            "아이템: 5\n",
            "아이템: 6\n",
            "아이템: 7\n",
            "아이템: 8\n",
            "아이템: 9\n",
            "아이템: 10\n",
            "아이템: 11\n",
            "아이템: 12\n",
            "아이템: 13\n",
            "아이템: 14\n",
            "아이템: 15\n",
            "아이템: 16\n",
            "아이템: 17\n",
            "아이템: 18\n",
            "아이템: 19\n",
            "아이템: 20\n",
            "아이템: 21\n",
            "아이템: 22\n",
            "아이템: 23\n",
            "아이템: 24\n",
            "아이템: 25\n",
            "아이템: 26\n",
            "아이템: 27\n",
            "아이템: 28\n",
            "아이템: 29\n",
            "아이템: 30\n",
            "아이템: 31\n",
            "아이템: 32\n",
            "아이템: 33\n",
            "아이템: 34\n",
            "아이템: 35\n"
          ]
        }
      ]
    },
    {
      "cell_type": "markdown",
      "source": [
        "# 배열 쌓기"
      ],
      "metadata": {
        "id": "ipnKAHqNBup4"
      }
    },
    {
      "cell_type": "code",
      "source": [],
      "metadata": {
        "id": "X-f99lZWBwW2"
      },
      "execution_count": 100,
      "outputs": []
    },
    {
      "cell_type": "code",
      "source": [
        "q1 = np.full((3,12), 4.5)\n",
        "q1"
      ],
      "metadata": {
        "id": "nwWS_soO5S4O",
        "colab": {
          "base_uri": "https://localhost:8080/"
        },
        "outputId": "aa418581-386c-4e75-fe22-916817035e31"
      },
      "execution_count": 101,
      "outputs": [
        {
          "output_type": "execute_result",
          "data": {
            "text/plain": [
              "array([[4.5, 4.5, 4.5, 4.5, 4.5, 4.5, 4.5, 4.5, 4.5, 4.5, 4.5, 4.5],\n",
              "       [4.5, 4.5, 4.5, 4.5, 4.5, 4.5, 4.5, 4.5, 4.5, 4.5, 4.5, 4.5],\n",
              "       [4.5, 4.5, 4.5, 4.5, 4.5, 4.5, 4.5, 4.5, 4.5, 4.5, 4.5, 4.5]])"
            ]
          },
          "metadata": {},
          "execution_count": 101
        }
      ]
    },
    {
      "cell_type": "code",
      "source": [
        "q2 = np.full((4,9), 1.0)\n",
        "q2"
      ],
      "metadata": {
        "id": "AvyW4fTS5XMd",
        "colab": {
          "base_uri": "https://localhost:8080/"
        },
        "outputId": "00ea454b-81b0-4553-cd9a-47b8c549d8de"
      },
      "execution_count": 102,
      "outputs": [
        {
          "output_type": "execute_result",
          "data": {
            "text/plain": [
              "array([[1., 1., 1., 1., 1., 1., 1., 1., 1.],\n",
              "       [1., 1., 1., 1., 1., 1., 1., 1., 1.],\n",
              "       [1., 1., 1., 1., 1., 1., 1., 1., 1.],\n",
              "       [1., 1., 1., 1., 1., 1., 1., 1., 1.]])"
            ]
          },
          "metadata": {},
          "execution_count": 102
        }
      ]
    },
    {
      "cell_type": "code",
      "source": [
        "q3 = np.full((3,8), 2.5)\n",
        "q3"
      ],
      "metadata": {
        "id": "bUflrbwB5ZFX",
        "colab": {
          "base_uri": "https://localhost:8080/"
        },
        "outputId": "4a165e07-f9f2-4b34-f088-767931720854"
      },
      "execution_count": 103,
      "outputs": [
        {
          "output_type": "execute_result",
          "data": {
            "text/plain": [
              "array([[2.5, 2.5, 2.5, 2.5, 2.5, 2.5, 2.5, 2.5],\n",
              "       [2.5, 2.5, 2.5, 2.5, 2.5, 2.5, 2.5, 2.5],\n",
              "       [2.5, 2.5, 2.5, 2.5, 2.5, 2.5, 2.5, 2.5]])"
            ]
          },
          "metadata": {},
          "execution_count": 103
        }
      ]
    },
    {
      "cell_type": "code",
      "source": [
        "q4 = np.vstack((q1, q2, q3))\n",
        "q4"
      ],
      "metadata": {
        "colab": {
          "base_uri": "https://localhost:8080/",
          "height": 385
        },
        "id": "xoisZS9a5a9u",
        "outputId": "dcc69ec8-e714-4bc6-a891-096ff392fb4a"
      },
      "execution_count": 104,
      "outputs": [
        {
          "output_type": "error",
          "ename": "ValueError",
          "evalue": "ignored",
          "traceback": [
            "\u001b[0;31m---------------------------------------------------------------------------\u001b[0m",
            "\u001b[0;31mValueError\u001b[0m                                Traceback (most recent call last)",
            "\u001b[0;32m<ipython-input-104-9f8d05e8436d>\u001b[0m in \u001b[0;36m<module>\u001b[0;34m\u001b[0m\n\u001b[0;32m----> 1\u001b[0;31m \u001b[0mq4\u001b[0m \u001b[0;34m=\u001b[0m \u001b[0mnp\u001b[0m\u001b[0;34m.\u001b[0m\u001b[0mvstack\u001b[0m\u001b[0;34m(\u001b[0m\u001b[0;34m(\u001b[0m\u001b[0mq1\u001b[0m\u001b[0;34m,\u001b[0m \u001b[0mq2\u001b[0m\u001b[0;34m,\u001b[0m \u001b[0mq3\u001b[0m\u001b[0;34m)\u001b[0m\u001b[0;34m)\u001b[0m\u001b[0;34m\u001b[0m\u001b[0;34m\u001b[0m\u001b[0m\n\u001b[0m\u001b[1;32m      2\u001b[0m \u001b[0mq4\u001b[0m\u001b[0;34m\u001b[0m\u001b[0;34m\u001b[0m\u001b[0m\n",
            "\u001b[0;32m<__array_function__ internals>\u001b[0m in \u001b[0;36mvstack\u001b[0;34m(*args, **kwargs)\u001b[0m\n",
            "\u001b[0;32m/usr/local/lib/python3.7/dist-packages/numpy/core/shape_base.py\u001b[0m in \u001b[0;36mvstack\u001b[0;34m(tup)\u001b[0m\n\u001b[1;32m    280\u001b[0m     \u001b[0;32mif\u001b[0m \u001b[0;32mnot\u001b[0m \u001b[0misinstance\u001b[0m\u001b[0;34m(\u001b[0m\u001b[0marrs\u001b[0m\u001b[0;34m,\u001b[0m \u001b[0mlist\u001b[0m\u001b[0;34m)\u001b[0m\u001b[0;34m:\u001b[0m\u001b[0;34m\u001b[0m\u001b[0;34m\u001b[0m\u001b[0m\n\u001b[1;32m    281\u001b[0m         \u001b[0marrs\u001b[0m \u001b[0;34m=\u001b[0m \u001b[0;34m[\u001b[0m\u001b[0marrs\u001b[0m\u001b[0;34m]\u001b[0m\u001b[0;34m\u001b[0m\u001b[0;34m\u001b[0m\u001b[0m\n\u001b[0;32m--> 282\u001b[0;31m     \u001b[0;32mreturn\u001b[0m \u001b[0m_nx\u001b[0m\u001b[0;34m.\u001b[0m\u001b[0mconcatenate\u001b[0m\u001b[0;34m(\u001b[0m\u001b[0marrs\u001b[0m\u001b[0;34m,\u001b[0m \u001b[0;36m0\u001b[0m\u001b[0;34m)\u001b[0m\u001b[0;34m\u001b[0m\u001b[0;34m\u001b[0m\u001b[0m\n\u001b[0m\u001b[1;32m    283\u001b[0m \u001b[0;34m\u001b[0m\u001b[0m\n\u001b[1;32m    284\u001b[0m \u001b[0;34m\u001b[0m\u001b[0m\n",
            "\u001b[0;32m<__array_function__ internals>\u001b[0m in \u001b[0;36mconcatenate\u001b[0;34m(*args, **kwargs)\u001b[0m\n",
            "\u001b[0;31mValueError\u001b[0m: all the input array dimensions for the concatenation axis must match exactly, but along dimension 1, the array at index 0 has size 12 and the array at index 1 has size 9"
          ]
        }
      ]
    },
    {
      "cell_type": "code",
      "source": [
        "q4.shape"
      ],
      "metadata": {
        "id": "UGiH4VoK5a_Z"
      },
      "execution_count": null,
      "outputs": []
    },
    {
      "cell_type": "code",
      "source": [
        "q5 = np.hstack((q1, q3))\n",
        "q5"
      ],
      "metadata": {
        "colab": {
          "base_uri": "https://localhost:8080/"
        },
        "id": "_jFVTEb35f8r",
        "outputId": "f60ebc37-8360-4320-b032-9274c8e86597"
      },
      "execution_count": 105,
      "outputs": [
        {
          "output_type": "execute_result",
          "data": {
            "text/plain": [
              "array([[4.5, 4.5, 4.5, 4.5, 4.5, 4.5, 4.5, 4.5, 4.5, 4.5, 4.5, 4.5, 2.5,\n",
              "        2.5, 2.5, 2.5, 2.5, 2.5, 2.5, 2.5],\n",
              "       [4.5, 4.5, 4.5, 4.5, 4.5, 4.5, 4.5, 4.5, 4.5, 4.5, 4.5, 4.5, 2.5,\n",
              "        2.5, 2.5, 2.5, 2.5, 2.5, 2.5, 2.5],\n",
              "       [4.5, 4.5, 4.5, 4.5, 4.5, 4.5, 4.5, 4.5, 4.5, 4.5, 4.5, 4.5, 2.5,\n",
              "        2.5, 2.5, 2.5, 2.5, 2.5, 2.5, 2.5]])"
            ]
          },
          "metadata": {},
          "execution_count": 105
        }
      ]
    },
    {
      "cell_type": "code",
      "source": [
        "q5.shape"
      ],
      "metadata": {
        "colab": {
          "base_uri": "https://localhost:8080/"
        },
        "id": "7ecN-zpH5iVP",
        "outputId": "44515637-e5e7-4aaf-f562-68c97f980a4d"
      },
      "execution_count": 106,
      "outputs": [
        {
          "output_type": "execute_result",
          "data": {
            "text/plain": [
              "(3, 20)"
            ]
          },
          "metadata": {},
          "execution_count": 106
        }
      ]
    },
    {
      "cell_type": "code",
      "source": [
        "try:\n",
        "    q5 = np.hstack((q1, q2, q3))\n",
        "except ValueError as e:\n",
        "    print(e)"
      ],
      "metadata": {
        "colab": {
          "base_uri": "https://localhost:8080/"
        },
        "id": "2OVyeDwD5kuk",
        "outputId": "b8489067-6b46-4ea8-aa89-9605f9144d7d"
      },
      "execution_count": 107,
      "outputs": [
        {
          "output_type": "stream",
          "name": "stdout",
          "text": [
            "all the input array dimensions for the concatenation axis must match exactly, but along dimension 0, the array at index 0 has size 3 and the array at index 1 has size 4\n"
          ]
        }
      ]
    },
    {
      "cell_type": "code",
      "source": [
        "q7 = np.concatenate((q1, q2, q3), axis=0)  # vstack과 동일\n",
        "q7"
      ],
      "metadata": {
        "id": "u589PPO-5kwZ",
        "colab": {
          "base_uri": "https://localhost:8080/",
          "height": 232
        },
        "outputId": "f344b333-8de7-4159-858a-caf40c81ee5d"
      },
      "execution_count": 108,
      "outputs": [
        {
          "output_type": "error",
          "ename": "ValueError",
          "evalue": "ignored",
          "traceback": [
            "\u001b[0;31m---------------------------------------------------------------------------\u001b[0m",
            "\u001b[0;31mValueError\u001b[0m                                Traceback (most recent call last)",
            "\u001b[0;32m<ipython-input-108-e7abbdb61227>\u001b[0m in \u001b[0;36m<module>\u001b[0;34m\u001b[0m\n\u001b[0;32m----> 1\u001b[0;31m \u001b[0mq7\u001b[0m \u001b[0;34m=\u001b[0m \u001b[0mnp\u001b[0m\u001b[0;34m.\u001b[0m\u001b[0mconcatenate\u001b[0m\u001b[0;34m(\u001b[0m\u001b[0;34m(\u001b[0m\u001b[0mq1\u001b[0m\u001b[0;34m,\u001b[0m \u001b[0mq2\u001b[0m\u001b[0;34m,\u001b[0m \u001b[0mq3\u001b[0m\u001b[0;34m)\u001b[0m\u001b[0;34m,\u001b[0m \u001b[0maxis\u001b[0m\u001b[0;34m=\u001b[0m\u001b[0;36m0\u001b[0m\u001b[0;34m)\u001b[0m  \u001b[0;31m# vstack과 동일\u001b[0m\u001b[0;34m\u001b[0m\u001b[0;34m\u001b[0m\u001b[0m\n\u001b[0m\u001b[1;32m      2\u001b[0m \u001b[0mq7\u001b[0m\u001b[0;34m\u001b[0m\u001b[0;34m\u001b[0m\u001b[0m\n",
            "\u001b[0;32m<__array_function__ internals>\u001b[0m in \u001b[0;36mconcatenate\u001b[0;34m(*args, **kwargs)\u001b[0m\n",
            "\u001b[0;31mValueError\u001b[0m: all the input array dimensions for the concatenation axis must match exactly, but along dimension 1, the array at index 0 has size 12 and the array at index 1 has size 9"
          ]
        }
      ]
    },
    {
      "cell_type": "code",
      "source": [
        "q7.shape"
      ],
      "metadata": {
        "id": "9-NfWact5prD",
        "colab": {
          "base_uri": "https://localhost:8080/",
          "height": 164
        },
        "outputId": "c5bd70a3-e25a-48b6-938b-8a76363e7d98"
      },
      "execution_count": 109,
      "outputs": [
        {
          "output_type": "error",
          "ename": "NameError",
          "evalue": "ignored",
          "traceback": [
            "\u001b[0;31m---------------------------------------------------------------------------\u001b[0m",
            "\u001b[0;31mNameError\u001b[0m                                 Traceback (most recent call last)",
            "\u001b[0;32m<ipython-input-109-8096e3717e72>\u001b[0m in \u001b[0;36m<module>\u001b[0;34m\u001b[0m\n\u001b[0;32m----> 1\u001b[0;31m \u001b[0mq7\u001b[0m\u001b[0;34m.\u001b[0m\u001b[0mshape\u001b[0m\u001b[0;34m\u001b[0m\u001b[0;34m\u001b[0m\u001b[0m\n\u001b[0m",
            "\u001b[0;31mNameError\u001b[0m: name 'q7' is not defined"
          ]
        }
      ]
    },
    {
      "cell_type": "code",
      "source": [
        "q8 = np.stack((q1, q3))\n",
        "q8"
      ],
      "metadata": {
        "id": "VOlVJp9Z5t6e",
        "colab": {
          "base_uri": "https://localhost:8080/",
          "height": 334
        },
        "outputId": "a5132453-f816-4a95-d8cb-6ba5ec8c6aa7"
      },
      "execution_count": 110,
      "outputs": [
        {
          "output_type": "error",
          "ename": "ValueError",
          "evalue": "ignored",
          "traceback": [
            "\u001b[0;31m---------------------------------------------------------------------------\u001b[0m",
            "\u001b[0;31mValueError\u001b[0m                                Traceback (most recent call last)",
            "\u001b[0;32m<ipython-input-110-7ceda237c84b>\u001b[0m in \u001b[0;36m<module>\u001b[0;34m\u001b[0m\n\u001b[0;32m----> 1\u001b[0;31m \u001b[0mq8\u001b[0m \u001b[0;34m=\u001b[0m \u001b[0mnp\u001b[0m\u001b[0;34m.\u001b[0m\u001b[0mstack\u001b[0m\u001b[0;34m(\u001b[0m\u001b[0;34m(\u001b[0m\u001b[0mq1\u001b[0m\u001b[0;34m,\u001b[0m \u001b[0mq3\u001b[0m\u001b[0;34m)\u001b[0m\u001b[0;34m)\u001b[0m\u001b[0;34m\u001b[0m\u001b[0;34m\u001b[0m\u001b[0m\n\u001b[0m\u001b[1;32m      2\u001b[0m \u001b[0mq8\u001b[0m\u001b[0;34m\u001b[0m\u001b[0;34m\u001b[0m\u001b[0m\n",
            "\u001b[0;32m<__array_function__ internals>\u001b[0m in \u001b[0;36mstack\u001b[0;34m(*args, **kwargs)\u001b[0m\n",
            "\u001b[0;32m/usr/local/lib/python3.7/dist-packages/numpy/core/shape_base.py\u001b[0m in \u001b[0;36mstack\u001b[0;34m(arrays, axis, out)\u001b[0m\n\u001b[1;32m    424\u001b[0m     \u001b[0mshapes\u001b[0m \u001b[0;34m=\u001b[0m \u001b[0;34m{\u001b[0m\u001b[0marr\u001b[0m\u001b[0;34m.\u001b[0m\u001b[0mshape\u001b[0m \u001b[0;32mfor\u001b[0m \u001b[0marr\u001b[0m \u001b[0;32min\u001b[0m \u001b[0marrays\u001b[0m\u001b[0;34m}\u001b[0m\u001b[0;34m\u001b[0m\u001b[0;34m\u001b[0m\u001b[0m\n\u001b[1;32m    425\u001b[0m     \u001b[0;32mif\u001b[0m \u001b[0mlen\u001b[0m\u001b[0;34m(\u001b[0m\u001b[0mshapes\u001b[0m\u001b[0;34m)\u001b[0m \u001b[0;34m!=\u001b[0m \u001b[0;36m1\u001b[0m\u001b[0;34m:\u001b[0m\u001b[0;34m\u001b[0m\u001b[0;34m\u001b[0m\u001b[0m\n\u001b[0;32m--> 426\u001b[0;31m         \u001b[0;32mraise\u001b[0m \u001b[0mValueError\u001b[0m\u001b[0;34m(\u001b[0m\u001b[0;34m'all input arrays must have the same shape'\u001b[0m\u001b[0;34m)\u001b[0m\u001b[0;34m\u001b[0m\u001b[0;34m\u001b[0m\u001b[0m\n\u001b[0m\u001b[1;32m    427\u001b[0m \u001b[0;34m\u001b[0m\u001b[0m\n\u001b[1;32m    428\u001b[0m     \u001b[0mresult_ndim\u001b[0m \u001b[0;34m=\u001b[0m \u001b[0marrays\u001b[0m\u001b[0;34m[\u001b[0m\u001b[0;36m0\u001b[0m\u001b[0;34m]\u001b[0m\u001b[0;34m.\u001b[0m\u001b[0mndim\u001b[0m \u001b[0;34m+\u001b[0m \u001b[0;36m1\u001b[0m\u001b[0;34m\u001b[0m\u001b[0;34m\u001b[0m\u001b[0m\n",
            "\u001b[0;31mValueError\u001b[0m: all input arrays must have the same shape"
          ]
        }
      ]
    },
    {
      "cell_type": "code",
      "source": [
        "q8.shape"
      ],
      "metadata": {
        "id": "2sVz5Dv05t8U"
      },
      "execution_count": null,
      "outputs": []
    },
    {
      "cell_type": "markdown",
      "source": [
        "# 배열 분할"
      ],
      "metadata": {
        "id": "uIWL2FINOGuD"
      }
    },
    {
      "cell_type": "code",
      "source": [
        "r = np.arange(12).reshape(2,6)\n",
        "r"
      ],
      "metadata": {
        "colab": {
          "base_uri": "https://localhost:8080/"
        },
        "id": "uMTleFEO50bL",
        "outputId": "d52d955b-7aaf-416f-a9cb-693fad895692"
      },
      "execution_count": 111,
      "outputs": [
        {
          "output_type": "execute_result",
          "data": {
            "text/plain": [
              "array([[ 0,  1,  2,  3,  4,  5],\n",
              "       [ 6,  7,  8,  9, 10, 11]])"
            ]
          },
          "metadata": {},
          "execution_count": 111
        }
      ]
    },
    {
      "cell_type": "code",
      "source": [
        "r1, r2 = np.vsplit(r, 2)\n",
        "r1"
      ],
      "metadata": {
        "colab": {
          "base_uri": "https://localhost:8080/"
        },
        "id": "YhLwnK2P50dE",
        "outputId": "47a9cb41-fbf0-487a-96ee-dec0dba9286d"
      },
      "execution_count": 112,
      "outputs": [
        {
          "output_type": "execute_result",
          "data": {
            "text/plain": [
              "array([[0, 1, 2, 3, 4, 5]])"
            ]
          },
          "metadata": {},
          "execution_count": 112
        }
      ]
    },
    {
      "cell_type": "code",
      "source": [
        "r2"
      ],
      "metadata": {
        "colab": {
          "base_uri": "https://localhost:8080/"
        },
        "id": "QTDim1x755Il",
        "outputId": "74af1afc-567d-474f-8850-856286527059"
      },
      "execution_count": 113,
      "outputs": [
        {
          "output_type": "execute_result",
          "data": {
            "text/plain": [
              "array([[ 6,  7,  8,  9, 10, 11]])"
            ]
          },
          "metadata": {},
          "execution_count": 113
        }
      ]
    },
    {
      "cell_type": "code",
      "source": [
        "r4, r5 = np.hsplit(r, 2)\n",
        "r4"
      ],
      "metadata": {
        "colab": {
          "base_uri": "https://localhost:8080/"
        },
        "id": "I5ZOMxx759sp",
        "outputId": "a7c6474b-42e6-4db5-9e59-d4f6334d42c5"
      },
      "execution_count": 114,
      "outputs": [
        {
          "output_type": "execute_result",
          "data": {
            "text/plain": [
              "array([[0, 1, 2],\n",
              "       [6, 7, 8]])"
            ]
          },
          "metadata": {},
          "execution_count": 114
        }
      ]
    },
    {
      "cell_type": "code",
      "source": [
        "r5"
      ],
      "metadata": {
        "id": "-Xg_VQAn6AeR",
        "colab": {
          "base_uri": "https://localhost:8080/"
        },
        "outputId": "2153eda6-f288-41ae-8801-25adb5339190"
      },
      "execution_count": 115,
      "outputs": [
        {
          "output_type": "execute_result",
          "data": {
            "text/plain": [
              "array([[ 3,  4,  5],\n",
              "       [ 9, 10, 11]])"
            ]
          },
          "metadata": {},
          "execution_count": 115
        }
      ]
    },
    {
      "cell_type": "markdown",
      "source": [
        "# 배열 전치"
      ],
      "metadata": {
        "id": "UetkCRiwOxft"
      }
    },
    {
      "cell_type": "code",
      "source": [
        "t = np.arange(36).reshape(2,3,6)\n",
        "t"
      ],
      "metadata": {
        "id": "NbA3CJX76C1P",
        "colab": {
          "base_uri": "https://localhost:8080/"
        },
        "outputId": "2063c621-f903-4f2d-a826-9c9a2a7b0943"
      },
      "execution_count": 116,
      "outputs": [
        {
          "output_type": "execute_result",
          "data": {
            "text/plain": [
              "array([[[ 0,  1,  2,  3,  4,  5],\n",
              "        [ 6,  7,  8,  9, 10, 11],\n",
              "        [12, 13, 14, 15, 16, 17]],\n",
              "\n",
              "       [[18, 19, 20, 21, 22, 23],\n",
              "        [24, 25, 26, 27, 28, 29],\n",
              "        [30, 31, 32, 33, 34, 35]]])"
            ]
          },
          "metadata": {},
          "execution_count": 116
        }
      ]
    },
    {
      "cell_type": "code",
      "source": [
        "t1 = t.transpose((1,0,2))\n",
        "t1"
      ],
      "metadata": {
        "id": "BB5A9WZO6FTD",
        "colab": {
          "base_uri": "https://localhost:8080/"
        },
        "outputId": "d457ddb5-73bf-4517-955c-f84b1f6cc6ac"
      },
      "execution_count": 117,
      "outputs": [
        {
          "output_type": "execute_result",
          "data": {
            "text/plain": [
              "array([[[ 0,  1,  2,  3,  4,  5],\n",
              "        [18, 19, 20, 21, 22, 23]],\n",
              "\n",
              "       [[ 6,  7,  8,  9, 10, 11],\n",
              "        [24, 25, 26, 27, 28, 29]],\n",
              "\n",
              "       [[12, 13, 14, 15, 16, 17],\n",
              "        [30, 31, 32, 33, 34, 35]]])"
            ]
          },
          "metadata": {},
          "execution_count": 117
        }
      ]
    },
    {
      "cell_type": "code",
      "source": [
        "t1.shape"
      ],
      "metadata": {
        "id": "vej1tW9h6FU6",
        "colab": {
          "base_uri": "https://localhost:8080/"
        },
        "outputId": "b14ef8c0-a2fd-4f77-dce4-629c5f15457f"
      },
      "execution_count": 118,
      "outputs": [
        {
          "output_type": "execute_result",
          "data": {
            "text/plain": [
              "(3, 2, 6)"
            ]
          },
          "metadata": {},
          "execution_count": 118
        }
      ]
    },
    {
      "cell_type": "code",
      "source": [
        "t2 = t.transpose()  # t.transpose((2, 1, 0))와 동일\n",
        "t2"
      ],
      "metadata": {
        "id": "I6kWciJb6JXv",
        "colab": {
          "base_uri": "https://localhost:8080/"
        },
        "outputId": "46f518e7-4cd8-4c9d-f7ff-b4427ba73e37"
      },
      "execution_count": 119,
      "outputs": [
        {
          "output_type": "execute_result",
          "data": {
            "text/plain": [
              "array([[[ 0, 18],\n",
              "        [ 6, 24],\n",
              "        [12, 30]],\n",
              "\n",
              "       [[ 1, 19],\n",
              "        [ 7, 25],\n",
              "        [13, 31]],\n",
              "\n",
              "       [[ 2, 20],\n",
              "        [ 8, 26],\n",
              "        [14, 32]],\n",
              "\n",
              "       [[ 3, 21],\n",
              "        [ 9, 27],\n",
              "        [15, 33]],\n",
              "\n",
              "       [[ 4, 22],\n",
              "        [10, 28],\n",
              "        [16, 34]],\n",
              "\n",
              "       [[ 5, 23],\n",
              "        [11, 29],\n",
              "        [17, 35]]])"
            ]
          },
          "metadata": {},
          "execution_count": 119
        }
      ]
    },
    {
      "cell_type": "code",
      "source": [
        "t2.shape"
      ],
      "metadata": {
        "id": "KlwKFzNK6Lkl",
        "colab": {
          "base_uri": "https://localhost:8080/"
        },
        "outputId": "039cc8d4-3376-4e61-fb05-8fff180fd2c7"
      },
      "execution_count": 120,
      "outputs": [
        {
          "output_type": "execute_result",
          "data": {
            "text/plain": [
              "(6, 3, 2)"
            ]
          },
          "metadata": {},
          "execution_count": 120
        }
      ]
    },
    {
      "cell_type": "code",
      "source": [
        "t3 = t.swapaxes(0,2)  # t.transpose((1, 0, 2))와 동일\n",
        "t3"
      ],
      "metadata": {
        "id": "jiFDbMGe6NqH",
        "colab": {
          "base_uri": "https://localhost:8080/"
        },
        "outputId": "f01f1700-7211-4457-e091-8b7760d2bf0d"
      },
      "execution_count": 121,
      "outputs": [
        {
          "output_type": "execute_result",
          "data": {
            "text/plain": [
              "array([[[ 0, 18],\n",
              "        [ 6, 24],\n",
              "        [12, 30]],\n",
              "\n",
              "       [[ 1, 19],\n",
              "        [ 7, 25],\n",
              "        [13, 31]],\n",
              "\n",
              "       [[ 2, 20],\n",
              "        [ 8, 26],\n",
              "        [14, 32]],\n",
              "\n",
              "       [[ 3, 21],\n",
              "        [ 9, 27],\n",
              "        [15, 33]],\n",
              "\n",
              "       [[ 4, 22],\n",
              "        [10, 28],\n",
              "        [16, 34]],\n",
              "\n",
              "       [[ 5, 23],\n",
              "        [11, 29],\n",
              "        [17, 35]]])"
            ]
          },
          "metadata": {},
          "execution_count": 121
        }
      ]
    },
    {
      "cell_type": "code",
      "source": [
        "t3.shape"
      ],
      "metadata": {
        "id": "q63U4XGv6NsD",
        "colab": {
          "base_uri": "https://localhost:8080/"
        },
        "outputId": "c03940dc-4ba6-4b4b-9499-2c4626397bf6"
      },
      "execution_count": 122,
      "outputs": [
        {
          "output_type": "execute_result",
          "data": {
            "text/plain": [
              "(6, 3, 2)"
            ]
          },
          "metadata": {},
          "execution_count": 122
        }
      ]
    },
    {
      "cell_type": "code",
      "source": [
        "m1 = np.arange(14).reshape(2,7)\n",
        "m1"
      ],
      "metadata": {
        "id": "bZGRfAL86SZ6",
        "colab": {
          "base_uri": "https://localhost:8080/"
        },
        "outputId": "37cc14c3-ba8a-4c75-fef4-88a832a59a37"
      },
      "execution_count": 123,
      "outputs": [
        {
          "output_type": "execute_result",
          "data": {
            "text/plain": [
              "array([[ 0,  1,  2,  3,  4,  5,  6],\n",
              "       [ 7,  8,  9, 10, 11, 12, 13]])"
            ]
          },
          "metadata": {},
          "execution_count": 123
        }
      ]
    },
    {
      "cell_type": "code",
      "source": [
        "m1.T"
      ],
      "metadata": {
        "id": "gyLY5YoI6USs",
        "colab": {
          "base_uri": "https://localhost:8080/"
        },
        "outputId": "ee91009e-349e-4487-e79a-835d4b749b19"
      },
      "execution_count": 124,
      "outputs": [
        {
          "output_type": "execute_result",
          "data": {
            "text/plain": [
              "array([[ 0,  7],\n",
              "       [ 1,  8],\n",
              "       [ 2,  9],\n",
              "       [ 3, 10],\n",
              "       [ 4, 11],\n",
              "       [ 5, 12],\n",
              "       [ 6, 13]])"
            ]
          },
          "metadata": {},
          "execution_count": 124
        }
      ]
    },
    {
      "cell_type": "code",
      "source": [
        "m2 = np.arange(3)\n",
        "m2"
      ],
      "metadata": {
        "id": "ycoMYzu86WRP",
        "colab": {
          "base_uri": "https://localhost:8080/"
        },
        "outputId": "a910ed8d-13a8-4e79-b370-796f081a4a96"
      },
      "execution_count": 134,
      "outputs": [
        {
          "output_type": "execute_result",
          "data": {
            "text/plain": [
              "array([0, 1, 2])"
            ]
          },
          "metadata": {},
          "execution_count": 134
        }
      ]
    },
    {
      "cell_type": "code",
      "source": [
        "m2.T"
      ],
      "metadata": {
        "id": "_N2PO7Jm6YOG",
        "colab": {
          "base_uri": "https://localhost:8080/"
        },
        "outputId": "ae530502-a00d-475e-a539-f57887753f15"
      },
      "execution_count": 135,
      "outputs": [
        {
          "output_type": "execute_result",
          "data": {
            "text/plain": [
              "array([0, 1, 2])"
            ]
          },
          "metadata": {},
          "execution_count": 135
        }
      ]
    },
    {
      "cell_type": "code",
      "source": [
        "m2r = m2.reshape(1,3)\n",
        "m2r"
      ],
      "metadata": {
        "id": "w07n0PbF6aGk",
        "colab": {
          "base_uri": "https://localhost:8080/"
        },
        "outputId": "2c05e040-37d4-44b5-81e4-d2d711a41e68"
      },
      "execution_count": 140,
      "outputs": [
        {
          "output_type": "execute_result",
          "data": {
            "text/plain": [
              "array([[0, 1, 2]])"
            ]
          },
          "metadata": {},
          "execution_count": 140
        }
      ]
    },
    {
      "cell_type": "code",
      "source": [
        "m2r.T"
      ],
      "metadata": {
        "id": "BXN7Dn4L6cAi",
        "colab": {
          "base_uri": "https://localhost:8080/"
        },
        "outputId": "6a797cbd-cedb-4c36-de38-94c926e23fdb"
      },
      "execution_count": 141,
      "outputs": [
        {
          "output_type": "execute_result",
          "data": {
            "text/plain": [
              "array([[0],\n",
              "       [1],\n",
              "       [2]])"
            ]
          },
          "metadata": {},
          "execution_count": 141
        }
      ]
    },
    {
      "cell_type": "markdown",
      "source": [
        "# 행렬 점곱"
      ],
      "metadata": {
        "id": "Gmq8YBuqlglp"
      }
    },
    {
      "cell_type": "code",
      "source": [
        "n1 = np.arange(14).reshape(2, 7)\n",
        "n1"
      ],
      "metadata": {
        "id": "v1MgKglu6eGS",
        "colab": {
          "base_uri": "https://localhost:8080/"
        },
        "outputId": "b91304d6-ae85-447d-e005-3c36dbfd302c"
      },
      "execution_count": 142,
      "outputs": [
        {
          "output_type": "execute_result",
          "data": {
            "text/plain": [
              "array([[ 0,  1,  2,  3,  4,  5,  6],\n",
              "       [ 7,  8,  9, 10, 11, 12, 13]])"
            ]
          },
          "metadata": {},
          "execution_count": 142
        }
      ]
    },
    {
      "cell_type": "code",
      "source": [
        "n2 = np.arange(20).reshape(4,5)\n",
        "n2"
      ],
      "metadata": {
        "id": "fg9j6Fn76gOD",
        "colab": {
          "base_uri": "https://localhost:8080/"
        },
        "outputId": "b2d6014d-f10a-4496-e418-e6f5a15ce4ab"
      },
      "execution_count": 145,
      "outputs": [
        {
          "output_type": "execute_result",
          "data": {
            "text/plain": [
              "array([[ 0,  1,  2,  3,  4],\n",
              "       [ 5,  6,  7,  8,  9],\n",
              "       [10, 11, 12, 13, 14],\n",
              "       [15, 16, 17, 18, 19]])"
            ]
          },
          "metadata": {},
          "execution_count": 145
        }
      ]
    },
    {
      "cell_type": "code",
      "source": [
        "n1.dot(n2)"
      ],
      "metadata": {
        "id": "3vAZE-bP6gQB",
        "colab": {
          "base_uri": "https://localhost:8080/",
          "height": 164
        },
        "outputId": "cfb3e2a1-60b7-4d83-c7dc-81d437057408"
      },
      "execution_count": 146,
      "outputs": [
        {
          "output_type": "error",
          "ename": "ValueError",
          "evalue": "ignored",
          "traceback": [
            "\u001b[0;31m---------------------------------------------------------------------------\u001b[0m",
            "\u001b[0;31mValueError\u001b[0m                                Traceback (most recent call last)",
            "\u001b[0;32m<ipython-input-146-aa735004cc0d>\u001b[0m in \u001b[0;36m<module>\u001b[0;34m\u001b[0m\n\u001b[0;32m----> 1\u001b[0;31m \u001b[0mn1\u001b[0m\u001b[0;34m.\u001b[0m\u001b[0mdot\u001b[0m\u001b[0;34m(\u001b[0m\u001b[0mn2\u001b[0m\u001b[0;34m)\u001b[0m\u001b[0;34m\u001b[0m\u001b[0;34m\u001b[0m\u001b[0m\n\u001b[0m",
            "\u001b[0;31mValueError\u001b[0m: shapes (2,7) and (4,5) not aligned: 7 (dim 1) != 4 (dim 0)"
          ]
        }
      ]
    },
    {
      "cell_type": "markdown",
      "source": [
        "# 역행렬과 유사 역행렬"
      ],
      "metadata": {
        "id": "2_oJPgF8mlQI"
      }
    },
    {
      "cell_type": "code",
      "source": [
        "import numpy.linalg as linalg\n",
        "\n",
        "m3 = np.array([[1,3,6],[10,15,20],[100,50,30]])\n",
        "m3"
      ],
      "metadata": {
        "id": "VD79uhSj6knP",
        "colab": {
          "base_uri": "https://localhost:8080/"
        },
        "outputId": "17e67333-e4cf-4fc6-ad38-83c23683e2e2"
      },
      "execution_count": 147,
      "outputs": [
        {
          "output_type": "execute_result",
          "data": {
            "text/plain": [
              "array([[  1,   3,   6],\n",
              "       [ 10,  15,  20],\n",
              "       [100,  50,  30]])"
            ]
          },
          "metadata": {},
          "execution_count": 147
        }
      ]
    },
    {
      "cell_type": "code",
      "source": [
        "linalg.inv(m3)"
      ],
      "metadata": {
        "id": "GCM5pRU16kvB",
        "colab": {
          "base_uri": "https://localhost:8080/"
        },
        "outputId": "b82f977e-e287-4d2a-8c10-2e0b7ab1d237"
      },
      "execution_count": 148,
      "outputs": [
        {
          "output_type": "execute_result",
          "data": {
            "text/plain": [
              "array([[ 0.37931034, -0.14482759,  0.02068966],\n",
              "       [-1.17241379,  0.39310345, -0.02758621],\n",
              "       [ 0.68965517, -0.17241379,  0.01034483]])"
            ]
          },
          "metadata": {},
          "execution_count": 148
        }
      ]
    },
    {
      "cell_type": "code",
      "source": [
        "linalg.pinv(m3)"
      ],
      "metadata": {
        "id": "lpGhmdJU6q8f",
        "colab": {
          "base_uri": "https://localhost:8080/"
        },
        "outputId": "2da7a533-c45c-416b-95a6-0607c4304383"
      },
      "execution_count": 149,
      "outputs": [
        {
          "output_type": "execute_result",
          "data": {
            "text/plain": [
              "array([[ 0.37931034, -0.14482759,  0.02068966],\n",
              "       [-1.17241379,  0.39310345, -0.02758621],\n",
              "       [ 0.68965517, -0.17241379,  0.01034483]])"
            ]
          },
          "metadata": {},
          "execution_count": 149
        }
      ]
    },
    {
      "cell_type": "markdown",
      "source": [
        "# 단위 행렬"
      ],
      "metadata": {
        "id": "6t9GLXDQm1Pj"
      }
    },
    {
      "cell_type": "code",
      "source": [
        "m3.dot(linalg.inv(m3))"
      ],
      "metadata": {
        "id": "fYnwVPsf6tMA",
        "colab": {
          "base_uri": "https://localhost:8080/"
        },
        "outputId": "93526d9f-a9dc-4db4-d20e-9df33a6f57e2"
      },
      "execution_count": 150,
      "outputs": [
        {
          "output_type": "execute_result",
          "data": {
            "text/plain": [
              "array([[ 1.00000000e+00,  1.66533454e-16,  0.00000000e+00],\n",
              "       [-4.44089210e-16,  1.00000000e+00,  2.77555756e-17],\n",
              "       [ 1.11022302e-15, -2.77555756e-16,  1.00000000e+00]])"
            ]
          },
          "metadata": {},
          "execution_count": 150
        }
      ]
    },
    {
      "cell_type": "code",
      "source": [
        "np.eye(5)"
      ],
      "metadata": {
        "id": "UHpKH78f6vWf",
        "colab": {
          "base_uri": "https://localhost:8080/"
        },
        "outputId": "c703ff12-ac02-4d02-fad1-d4fb83c56cb2"
      },
      "execution_count": 152,
      "outputs": [
        {
          "output_type": "execute_result",
          "data": {
            "text/plain": [
              "array([[1., 0., 0., 0., 0.],\n",
              "       [0., 1., 0., 0., 0.],\n",
              "       [0., 0., 1., 0., 0.],\n",
              "       [0., 0., 0., 1., 0.],\n",
              "       [0., 0., 0., 0., 1.]])"
            ]
          },
          "metadata": {},
          "execution_count": 152
        }
      ]
    },
    {
      "cell_type": "markdown",
      "source": [
        "# QR 분해"
      ],
      "metadata": {
        "id": "vOrpr1eCm8dw"
      }
    },
    {
      "cell_type": "code",
      "source": [
        "q, r = linalg.qr(m3)\n",
        "q"
      ],
      "metadata": {
        "id": "xfolQ3jy6xbX",
        "colab": {
          "base_uri": "https://localhost:8080/"
        },
        "outputId": "8be5cfb3-65ba-4bbf-938b-02bdccf5416d"
      },
      "execution_count": 153,
      "outputs": [
        {
          "output_type": "execute_result",
          "data": {
            "text/plain": [
              "array([[-0.00994988, -0.24274224, -0.9700398 ],\n",
              "       [-0.09949879, -0.96503312,  0.24250995],\n",
              "       [-0.99498793,  0.09893073, -0.0145506 ]])"
            ]
          },
          "metadata": {},
          "execution_count": 153
        }
      ]
    },
    {
      "cell_type": "code",
      "source": [
        "r"
      ],
      "metadata": {
        "id": "2vPcZHsB60gw",
        "colab": {
          "base_uri": "https://localhost:8080/"
        },
        "outputId": "b895710e-6156-4424-84d3-1a8f4c5dcd2f"
      },
      "execution_count": 154,
      "outputs": [
        {
          "output_type": "execute_result",
          "data": {
            "text/plain": [
              "array([[-100.50373127,  -51.27172827,  -31.89931318],\n",
              "       [   0.        ,  -10.25718676,  -17.78919374],\n",
              "       [   0.        ,    0.        ,   -1.4065577 ]])"
            ]
          },
          "metadata": {},
          "execution_count": 154
        }
      ]
    },
    {
      "cell_type": "code",
      "source": [
        "q.dot(r)  # q.r는 m3와 같습니다"
      ],
      "metadata": {
        "id": "LBa9DGQ963QE",
        "colab": {
          "base_uri": "https://localhost:8080/"
        },
        "outputId": "60e4f2dd-4082-44e8-8e49-05421bf5996c"
      },
      "execution_count": 156,
      "outputs": [
        {
          "output_type": "execute_result",
          "data": {
            "text/plain": [
              "array([[  1.,   3.,   6.],\n",
              "       [ 10.,  15.,  20.],\n",
              "       [100.,  50.,  30.]])"
            ]
          },
          "metadata": {},
          "execution_count": 156
        }
      ]
    },
    {
      "cell_type": "code",
      "source": [
        "linalg.det(m3)  # 행렬식 계산"
      ],
      "metadata": {
        "id": "s2Eozk0g65bV",
        "colab": {
          "base_uri": "https://localhost:8080/"
        },
        "outputId": "032e0dd3-891f-4fae-cf28-cc78fd9ee6c5"
      },
      "execution_count": 155,
      "outputs": [
        {
          "output_type": "execute_result",
          "data": {
            "text/plain": [
              "-1450.0000000000014"
            ]
          },
          "metadata": {},
          "execution_count": 155
        }
      ]
    },
    {
      "cell_type": "markdown",
      "source": [
        "# 고유값과 고유벡터"
      ],
      "metadata": {
        "id": "FEa5ZDZqnDCR"
      }
    },
    {
      "cell_type": "code",
      "source": [
        "eigenvalues, eigenvectors = linalg.eig(m3)\n",
        "eigenvalues # λ"
      ],
      "metadata": {
        "id": "xOs0HWBf67nZ",
        "colab": {
          "base_uri": "https://localhost:8080/"
        },
        "outputId": "43c96445-89bd-4e5c-9164-baf80d4dfc1b"
      },
      "execution_count": 157,
      "outputs": [
        {
          "output_type": "execute_result",
          "data": {
            "text/plain": [
              "array([ 63.51134946,   1.21891324, -18.73026269])"
            ]
          },
          "metadata": {},
          "execution_count": 157
        }
      ]
    },
    {
      "cell_type": "code",
      "source": [
        "eigenvectors # v"
      ],
      "metadata": {
        "id": "B-jaxUm169ip",
        "colab": {
          "base_uri": "https://localhost:8080/"
        },
        "outputId": "54a3e5c1-490c-4e60-ce95-f000a658ed15"
      },
      "execution_count": 158,
      "outputs": [
        {
          "output_type": "execute_result",
          "data": {
            "text/plain": [
              "array([[-0.1065556 , -0.29919782, -0.19445986],\n",
              "       [-0.39767788,  0.84904323, -0.45699236],\n",
              "       [-0.91131674, -0.43543801,  0.86795354]])"
            ]
          },
          "metadata": {},
          "execution_count": 158
        }
      ]
    },
    {
      "cell_type": "code",
      "source": [
        "m3.dot(eigenvectors) - eigenvalues * eigenvectors  # m3.v - λ*v = 0"
      ],
      "metadata": {
        "id": "9yiMlI4l6_lE",
        "colab": {
          "base_uri": "https://localhost:8080/"
        },
        "outputId": "b212fe9d-479d-4bbd-a8ba-51ceafc5ca3b"
      },
      "execution_count": 159,
      "outputs": [
        {
          "output_type": "execute_result",
          "data": {
            "text/plain": [
              "array([[ 3.55271368e-15,  3.16413562e-15, -5.77315973e-15],\n",
              "       [-1.77635684e-14,  2.06501483e-14, -1.24344979e-14],\n",
              "       [-2.13162821e-14,  2.66453526e-14, -2.48689958e-14]])"
            ]
          },
          "metadata": {},
          "execution_count": 159
        }
      ]
    },
    {
      "cell_type": "markdown",
      "source": [
        "# 특잇값 분해"
      ],
      "metadata": {
        "id": "5ukxq6ZmnWsD"
      }
    },
    {
      "cell_type": "code",
      "source": [
        "m4 = np.array([[1,0,1], [0,0,3], [1,2,3], [0,2,1]])\n",
        "m4"
      ],
      "metadata": {
        "id": "g523Hv9w7CIk",
        "colab": {
          "base_uri": "https://localhost:8080/"
        },
        "outputId": "56259f66-a022-4208-abb3-9cd875511eb8"
      },
      "execution_count": 162,
      "outputs": [
        {
          "output_type": "execute_result",
          "data": {
            "text/plain": [
              "array([[1, 0, 1],\n",
              "       [0, 0, 3],\n",
              "       [1, 2, 3],\n",
              "       [0, 2, 1]])"
            ]
          },
          "metadata": {},
          "execution_count": 162
        }
      ]
    },
    {
      "cell_type": "code",
      "source": [
        "U, S_diag, V = linalg.svd(m4)\n",
        "U"
      ],
      "metadata": {
        "id": "tWOjPDnQ7EP2",
        "colab": {
          "base_uri": "https://localhost:8080/"
        },
        "outputId": "2771a0f8-b5a8-4f19-bd35-02b242010075"
      },
      "execution_count": 163,
      "outputs": [
        {
          "output_type": "execute_result",
          "data": {
            "text/plain": [
              "array([[-0.21447651,  0.2236068 ,  0.76326356,  0.56694671],\n",
              "       [-0.52801344,  0.67082039, -0.48527057,  0.18898224],\n",
              "       [-0.74248995, -0.2236068 ,  0.27799299, -0.56694671],\n",
              "       [-0.35200896, -0.67082039, -0.32351371,  0.56694671]])"
            ]
          },
          "metadata": {},
          "execution_count": 163
        }
      ]
    },
    {
      "cell_type": "code",
      "source": [
        "S_diag"
      ],
      "metadata": {
        "id": "37RSXBOd7GK7",
        "colab": {
          "base_uri": "https://localhost:8080/"
        },
        "outputId": "b5e66ee3-2798-40a2-b6c7-56ef09b50bc8"
      },
      "execution_count": 164,
      "outputs": [
        {
          "output_type": "execute_result",
          "data": {
            "text/plain": [
              "array([4.98741838, 2.        , 1.06097027])"
            ]
          },
          "metadata": {},
          "execution_count": 164
        }
      ]
    },
    {
      "cell_type": "code",
      "source": [
        "S = np.zeros((2, 7))\n",
        "S[np.diag_indices(5)] = S_diag\n",
        "S  # Σ"
      ],
      "metadata": {
        "id": "ApxI5uCh7IN6",
        "colab": {
          "base_uri": "https://localhost:8080/",
          "height": 198
        },
        "outputId": "6fdc223d-63d2-4692-a05a-5b25a1d2f21f"
      },
      "execution_count": 166,
      "outputs": [
        {
          "output_type": "error",
          "ename": "ValueError",
          "evalue": "ignored",
          "traceback": [
            "\u001b[0;31m---------------------------------------------------------------------------\u001b[0m",
            "\u001b[0;31mValueError\u001b[0m                                Traceback (most recent call last)",
            "\u001b[0;32m<ipython-input-166-7b00421da514>\u001b[0m in \u001b[0;36m<module>\u001b[0;34m\u001b[0m\n\u001b[1;32m      1\u001b[0m \u001b[0mS\u001b[0m \u001b[0;34m=\u001b[0m \u001b[0mnp\u001b[0m\u001b[0;34m.\u001b[0m\u001b[0mzeros\u001b[0m\u001b[0;34m(\u001b[0m\u001b[0;34m(\u001b[0m\u001b[0;36m2\u001b[0m\u001b[0;34m,\u001b[0m \u001b[0;36m7\u001b[0m\u001b[0;34m)\u001b[0m\u001b[0;34m)\u001b[0m\u001b[0;34m\u001b[0m\u001b[0;34m\u001b[0m\u001b[0m\n\u001b[0;32m----> 2\u001b[0;31m \u001b[0mS\u001b[0m\u001b[0;34m[\u001b[0m\u001b[0mnp\u001b[0m\u001b[0;34m.\u001b[0m\u001b[0mdiag_indices\u001b[0m\u001b[0;34m(\u001b[0m\u001b[0;36m5\u001b[0m\u001b[0;34m)\u001b[0m\u001b[0;34m]\u001b[0m \u001b[0;34m=\u001b[0m \u001b[0mS_diag\u001b[0m\u001b[0;34m\u001b[0m\u001b[0;34m\u001b[0m\u001b[0m\n\u001b[0m\u001b[1;32m      3\u001b[0m \u001b[0mS\u001b[0m  \u001b[0;31m# Σ\u001b[0m\u001b[0;34m\u001b[0m\u001b[0;34m\u001b[0m\u001b[0m\n",
            "\u001b[0;31mValueError\u001b[0m: shape mismatch: value array of shape (3,) could not be broadcast to indexing result of shape (5,)"
          ]
        }
      ]
    },
    {
      "cell_type": "code",
      "source": [
        "V"
      ],
      "metadata": {
        "id": "JeM6mPbs7Ke_",
        "colab": {
          "base_uri": "https://localhost:8080/"
        },
        "outputId": "09ab5659-10cc-429a-c778-dd392c07011b"
      },
      "execution_count": 167,
      "outputs": [
        {
          "output_type": "execute_result",
          "data": {
            "text/plain": [
              "array([[-0.19187611, -0.43890399, -0.87780798],\n",
              "       [ 0.        , -0.89442719,  0.4472136 ],\n",
              "       [ 0.98141915, -0.08580961, -0.17161921]])"
            ]
          },
          "metadata": {},
          "execution_count": 167
        }
      ]
    },
    {
      "cell_type": "code",
      "source": [
        "U.dot(S).dot(V) # U.Σ.V == m4"
      ],
      "metadata": {
        "id": "GNe2sskZ7M3U",
        "colab": {
          "base_uri": "https://localhost:8080/",
          "height": 164
        },
        "outputId": "40d3b7a2-532e-4322-9f03-9fd8856c0401"
      },
      "execution_count": 168,
      "outputs": [
        {
          "output_type": "error",
          "ename": "ValueError",
          "evalue": "ignored",
          "traceback": [
            "\u001b[0;31m---------------------------------------------------------------------------\u001b[0m",
            "\u001b[0;31mValueError\u001b[0m                                Traceback (most recent call last)",
            "\u001b[0;32m<ipython-input-168-37d18b434212>\u001b[0m in \u001b[0;36m<module>\u001b[0;34m\u001b[0m\n\u001b[0;32m----> 1\u001b[0;31m \u001b[0mU\u001b[0m\u001b[0;34m.\u001b[0m\u001b[0mdot\u001b[0m\u001b[0;34m(\u001b[0m\u001b[0mS\u001b[0m\u001b[0;34m)\u001b[0m\u001b[0;34m.\u001b[0m\u001b[0mdot\u001b[0m\u001b[0;34m(\u001b[0m\u001b[0mV\u001b[0m\u001b[0;34m)\u001b[0m \u001b[0;31m# U.Σ.V == m4\u001b[0m\u001b[0;34m\u001b[0m\u001b[0;34m\u001b[0m\u001b[0m\n\u001b[0m",
            "\u001b[0;31mValueError\u001b[0m: shapes (4,4) and (2,7) not aligned: 4 (dim 1) != 2 (dim 0)"
          ]
        }
      ]
    },
    {
      "cell_type": "markdown",
      "source": [
        "# 대각원소와 대각합"
      ],
      "metadata": {
        "id": "1TRGZucGnjpM"
      }
    },
    {
      "cell_type": "code",
      "source": [
        "np.diag(m3)"
      ],
      "metadata": {
        "id": "pULjfRly7PJ7",
        "colab": {
          "base_uri": "https://localhost:8080/"
        },
        "outputId": "43bcbef3-86b4-4f43-b37b-38915bad496c"
      },
      "execution_count": 169,
      "outputs": [
        {
          "output_type": "execute_result",
          "data": {
            "text/plain": [
              "array([ 1, 15, 30])"
            ]
          },
          "metadata": {},
          "execution_count": 169
        }
      ]
    },
    {
      "cell_type": "code",
      "source": [
        "np.trace(m3)"
      ],
      "metadata": {
        "id": "XkGAZX257REa",
        "colab": {
          "base_uri": "https://localhost:8080/"
        },
        "outputId": "20953b12-cd51-40e3-dd55-b9ac6664a120"
      },
      "execution_count": 170,
      "outputs": [
        {
          "output_type": "execute_result",
          "data": {
            "text/plain": [
              "46"
            ]
          },
          "metadata": {},
          "execution_count": 170
        }
      ]
    },
    {
      "cell_type": "markdown",
      "source": [
        "# 선형 방정식 풀기"
      ],
      "metadata": {
        "id": "5cZmeIVNnosn"
      }
    },
    {
      "cell_type": "code",
      "source": [
        "coeffs  = np.array([[2, 4], [1, 3]])\n",
        "depvars = np.array([5, -8])\n",
        "solution = linalg.solve(coeffs, depvars)\n",
        "solution"
      ],
      "metadata": {
        "id": "8M7Y_QcF7TUp",
        "colab": {
          "base_uri": "https://localhost:8080/"
        },
        "outputId": "48a9d2da-d2b1-45a7-c622-d621684cdb3a"
      },
      "execution_count": 172,
      "outputs": [
        {
          "output_type": "execute_result",
          "data": {
            "text/plain": [
              "array([ 23.5, -10.5])"
            ]
          },
          "metadata": {},
          "execution_count": 172
        }
      ]
    },
    {
      "cell_type": "code",
      "source": [
        "coeffs.dot(solution), depvars  # 네 같네요"
      ],
      "metadata": {
        "id": "oXb_YGsS7VRp",
        "colab": {
          "base_uri": "https://localhost:8080/"
        },
        "outputId": "6fe49cbf-48b0-4624-845b-76455ae55b6c"
      },
      "execution_count": 173,
      "outputs": [
        {
          "output_type": "execute_result",
          "data": {
            "text/plain": [
              "(array([ 5., -8.]), array([ 5, -8]))"
            ]
          },
          "metadata": {},
          "execution_count": 173
        }
      ]
    },
    {
      "cell_type": "code",
      "source": [
        "np.allclose(coeffs.dot(solution), depvars)"
      ],
      "metadata": {
        "id": "7rDN60lQ7XEd",
        "colab": {
          "base_uri": "https://localhost:8080/"
        },
        "outputId": "73c50c01-38e3-4c67-9cde-34ce6de0c6bd"
      },
      "execution_count": 174,
      "outputs": [
        {
          "output_type": "execute_result",
          "data": {
            "text/plain": [
              "True"
            ]
          },
          "metadata": {},
          "execution_count": 174
        }
      ]
    },
    {
      "cell_type": "markdown",
      "source": [
        "# 벡터화"
      ],
      "metadata": {
        "id": "5UxP-QN7n0mj"
      }
    },
    {
      "cell_type": "code",
      "source": [
        "import math\n",
        "data = np.empty((768, 1024))\n",
        "for y in range(768):\n",
        "    for x in range(1024):\n",
        "        data[y, x] = math.sin(x*y/40.5)  # 매우 비효율적"
      ],
      "metadata": {
        "id": "rFvvSZ2i7ZmQ"
      },
      "execution_count": 175,
      "outputs": []
    },
    {
      "cell_type": "code",
      "source": [
        "x_coords = np.arange(0, 526)  # [0, 1, 2, ..., 1023]\n",
        "y_coords = np.arange(0, 354)   # [0, 1, 2, ..., 767]\n",
        "X, Y = np.meshgrid(x_coords, y_coords)\n",
        "X"
      ],
      "metadata": {
        "id": "rz4s80Kf7bsW",
        "colab": {
          "base_uri": "https://localhost:8080/"
        },
        "outputId": "5cdc7608-60e5-433c-ceb1-c280a981e1d4"
      },
      "execution_count": 177,
      "outputs": [
        {
          "output_type": "execute_result",
          "data": {
            "text/plain": [
              "array([[  0,   1,   2, ..., 523, 524, 525],\n",
              "       [  0,   1,   2, ..., 523, 524, 525],\n",
              "       [  0,   1,   2, ..., 523, 524, 525],\n",
              "       ...,\n",
              "       [  0,   1,   2, ..., 523, 524, 525],\n",
              "       [  0,   1,   2, ..., 523, 524, 525],\n",
              "       [  0,   1,   2, ..., 523, 524, 525]])"
            ]
          },
          "metadata": {},
          "execution_count": 177
        }
      ]
    },
    {
      "cell_type": "code",
      "source": [
        "Y"
      ],
      "metadata": {
        "id": "C2nC0IlW7ds5",
        "colab": {
          "base_uri": "https://localhost:8080/"
        },
        "outputId": "ce50b3f9-79b0-46bf-930d-69e7f77cfba9"
      },
      "execution_count": 178,
      "outputs": [
        {
          "output_type": "execute_result",
          "data": {
            "text/plain": [
              "array([[  0,   0,   0, ...,   0,   0,   0],\n",
              "       [  1,   1,   1, ...,   1,   1,   1],\n",
              "       [  2,   2,   2, ...,   2,   2,   2],\n",
              "       ...,\n",
              "       [351, 351, 351, ..., 351, 351, 351],\n",
              "       [352, 352, 352, ..., 352, 352, 352],\n",
              "       [353, 353, 353, ..., 353, 353, 353]])"
            ]
          },
          "metadata": {},
          "execution_count": 178
        }
      ]
    },
    {
      "cell_type": "code",
      "source": [
        "data = np.sin(X*Y/30.2)"
      ],
      "metadata": {
        "id": "hQYlwMgl7f3B"
      },
      "execution_count": 179,
      "outputs": []
    },
    {
      "cell_type": "code",
      "source": [
        "import matplotlib.pyplot as plt\n",
        "import matplotlib.cm as cm\n",
        "fig = plt.figure(5, figsize=(4, 6))\n",
        "plt.imshow(data, cmap=cm.hot)\n",
        "plt.show()"
      ],
      "metadata": {
        "id": "MDAtALtj7hyw",
        "colab": {
          "base_uri": "https://localhost:8080/",
          "height": 202
        },
        "outputId": "0591dbcb-1e94-49a6-ce7b-9b085f3110ce"
      },
      "execution_count": 181,
      "outputs": [
        {
          "output_type": "display_data",
          "data": {
            "text/plain": [
              "<Figure size 288x432 with 1 Axes>"
            ],
            "image/png": "[encoded data removed]"
          },
          "metadata": {
            "needs_background": "light"
          }
        }
      ]
    },
    {
      "cell_type": "code",
      "source": [
        "a = np.random.rand(4,2)\n",
        "a"
      ],
      "metadata": {
        "id": "ssUVVllQ7kz6",
        "colab": {
          "base_uri": "https://localhost:8080/"
        },
        "outputId": "6652e984-f30c-42a4-efb1-f094c392fce9"
      },
      "execution_count": 182,
      "outputs": [
        {
          "output_type": "execute_result",
          "data": {
            "text/plain": [
              "array([[0.34084314, 0.02653759],\n",
              "       [0.0191054 , 0.02939758],\n",
              "       [0.81362045, 0.9192001 ],\n",
              "       [0.32242715, 0.52542865]])"
            ]
          },
          "metadata": {},
          "execution_count": 182
        }
      ]
    },
    {
      "cell_type": "code",
      "source": [
        "np.save(\"my_array\", a)"
      ],
      "metadata": {
        "id": "hSvPkuB67nVZ"
      },
      "execution_count": 183,
      "outputs": []
    },
    {
      "cell_type": "code",
      "source": [
        "with open(\"my_array.npy\", \"rb\") as f:\n",
        "    content = f.read()\n",
        "\n",
        "content"
      ],
      "metadata": {
        "id": "TNIXWrdo7pHh",
        "colab": {
          "base_uri": "https://localhost:8080/"
        },
        "outputId": "297b5f49-6043-44df-9e03-ba1cb4c8c2bb"
      },
      "execution_count": 184,
      "outputs": [
        {
          "output_type": "execute_result",
          "data": {
            "text/plain": [
              "b\"\\x93NUMPY\\x01\\x00v\\x00{'descr': '<f8', 'fortran_order': False, 'shape': (4, 2), }                                                          \\nz\\xb4\\xca\\xba_\\xd0\\xd5?\\xc0c\\xd55\\xab,\\x9b?`\\x94l\\xce]\\x90\\x93?\\xa0\\xf4\\xe3Zf\\x1a\\x9e?\\xc4\\x1b\\xb3\\xbf-\\t\\xea?\\xbfW\\x81V\\x16j\\xed?\\xec\\x85\\x93\\x80\\xa5\\xa2\\xd4?\\x00\\xc9Z\\xbfO\\xd0\\xe0?\""
            ]
          },
          "metadata": {},
          "execution_count": 184
        }
      ]
    },
    {
      "cell_type": "code",
      "source": [
        "a_loaded = np.load(\"my_array.npy\")\n",
        "a_loaded"
      ],
      "metadata": {
        "id": "4W3X9gYx7rjJ",
        "colab": {
          "base_uri": "https://localhost:8080/"
        },
        "outputId": "5fd03e06-7d31-4154-d293-f0f329d4474a"
      },
      "execution_count": 185,
      "outputs": [
        {
          "output_type": "execute_result",
          "data": {
            "text/plain": [
              "array([[0.34084314, 0.02653759],\n",
              "       [0.0191054 , 0.02939758],\n",
              "       [0.81362045, 0.9192001 ],\n",
              "       [0.32242715, 0.52542865]])"
            ]
          },
          "metadata": {},
          "execution_count": 185
        }
      ]
    },
    {
      "cell_type": "code",
      "source": [
        "np.savetxt(\"my_array.csv\", a)"
      ],
      "metadata": {
        "id": "bmt0HA3e7rrN"
      },
      "execution_count": 186,
      "outputs": []
    },
    {
      "cell_type": "code",
      "source": [
        "with open(\"my_array.csv\", \"rt\") as f:\n",
        "    print(f.read())"
      ],
      "metadata": {
        "id": "DUAQapFa7xdE",
        "colab": {
          "base_uri": "https://localhost:8080/"
        },
        "outputId": "127ad450-fa14-448f-9914-e0f9c2b816b9"
      },
      "execution_count": 187,
      "outputs": [
        {
          "output_type": "stream",
          "name": "stdout",
          "text": [
            "3.408431362284499722e-01 2.653758541177686503e-02\n",
            "1.910540172970731643e-02 2.939758233786859964e-02\n",
            "8.136204475530282032e-01 9.192001046710557288e-01\n",
            "3.224271541240273375e-01 5.254286515612704989e-01\n",
            "\n"
          ]
        }
      ]
    },
    {
      "cell_type": "code",
      "source": [
        "np.savetxt(\"my_array.csv\", a, delimiter=\",\")"
      ],
      "metadata": {
        "id": "JkqtkfKu8HAA"
      },
      "execution_count": 188,
      "outputs": []
    },
    {
      "cell_type": "code",
      "source": [
        "a_loaded = np.loadtxt(\"my_array.csv\", delimiter=\",\")\n",
        "a_loaded"
      ],
      "metadata": {
        "id": "3dhFhgWg8JcY",
        "colab": {
          "base_uri": "https://localhost:8080/"
        },
        "outputId": "ca38fb69-3d71-4a01-af5e-d43e26be2471"
      },
      "execution_count": 189,
      "outputs": [
        {
          "output_type": "execute_result",
          "data": {
            "text/plain": [
              "array([[0.34084314, 0.02653759],\n",
              "       [0.0191054 , 0.02939758],\n",
              "       [0.81362045, 0.9192001 ],\n",
              "       [0.32242715, 0.52542865]])"
            ]
          },
          "metadata": {},
          "execution_count": 189
        }
      ]
    },
    {
      "cell_type": "code",
      "source": [
        "b = np.arange(36, dtype=np.uint8).reshape(2, 9, 2)\n",
        "b"
      ],
      "metadata": {
        "id": "xJfaMu7J8MUD",
        "colab": {
          "base_uri": "https://localhost:8080/"
        },
        "outputId": "2ba9867f-8e20-4e2a-d474-cff4dcd98548"
      },
      "execution_count": 191,
      "outputs": [
        {
          "output_type": "execute_result",
          "data": {
            "text/plain": [
              "array([[[ 0,  1],\n",
              "        [ 2,  3],\n",
              "        [ 4,  5],\n",
              "        [ 6,  7],\n",
              "        [ 8,  9],\n",
              "        [10, 11],\n",
              "        [12, 13],\n",
              "        [14, 15],\n",
              "        [16, 17]],\n",
              "\n",
              "       [[18, 19],\n",
              "        [20, 21],\n",
              "        [22, 23],\n",
              "        [24, 25],\n",
              "        [26, 27],\n",
              "        [28, 29],\n",
              "        [30, 31],\n",
              "        [32, 33],\n",
              "        [34, 35]]], dtype=uint8)"
            ]
          },
          "metadata": {},
          "execution_count": 191
        }
      ]
    },
    {
      "cell_type": "code",
      "source": [
        "np.savez(\"my_arrays\", my_a=a, my_b=b)"
      ],
      "metadata": {
        "id": "O4l5xCqO8OhS"
      },
      "execution_count": 192,
      "outputs": []
    },
    {
      "cell_type": "code",
      "source": [
        "with open(\"my_arrays.npz\", \"rb\") as f:\n",
        "    content = f.read()\n",
        "\n",
        "repr(content)[:180] + \"[...]\""
      ],
      "metadata": {
        "id": "sizJ_MOS8RAl",
        "colab": {
          "base_uri": "https://localhost:8080/",
          "height": 54
        },
        "outputId": "54be4d65-6d11-4db7-f262-f89ee262e6b0"
      },
      "execution_count": 193,
      "outputs": [
        {
          "output_type": "execute_result",
          "data": {
            "text/plain": [
              "\"b'PK\\\\x03\\\\x04\\\\x14\\\\x00\\\\x00\\\\x00\\\\x00\\\\x00\\\\x00\\\\x00!\\\\x00\\\\x7f\\\\xb0\\\\xc1\\\\xa4\\\\xc0\\\\x00\\\\x00\\\\x00\\\\xc0\\\\x00\\\\x00\\\\x00\\\\x08\\\\x00\\\\x14\\\\x00my_a.npy\\\\x01\\\\x00\\\\x10\\\\x00\\\\xc0\\\\x00\\\\x00\\\\x00\\\\x00\\\\x00\\\\x00\\\\x00\\\\xc0\\\\x00\\\\x0[...]\""
            ],
            "application/vnd.google.colaboratory.intrinsic+json": {
              "type": "string"
            }
          },
          "metadata": {},
          "execution_count": 193
        }
      ]
    },
    {
      "cell_type": "code",
      "source": [
        "my_arrays = np.load(\"my_arrays.npz\")\n",
        "my_arrays"
      ],
      "metadata": {
        "id": "C_2imfE_8S3K",
        "colab": {
          "base_uri": "https://localhost:8080/"
        },
        "outputId": "a9994ed8-131a-4135-dc6b-2d11cf6956f7"
      },
      "execution_count": 194,
      "outputs": [
        {
          "output_type": "execute_result",
          "data": {
            "text/plain": [
              "<numpy.lib.npyio.NpzFile at 0x7feaa9c39750>"
            ]
          },
          "metadata": {},
          "execution_count": 194
        }
      ]
    },
    {
      "cell_type": "code",
      "source": [
        "my_arrays.keys()"
      ],
      "metadata": {
        "id": "58jCpdMl8Wql",
        "colab": {
          "base_uri": "https://localhost:8080/"
        },
        "outputId": "01383759-c96f-4dfa-bf50-891c827f7a1a"
      },
      "execution_count": 195,
      "outputs": [
        {
          "output_type": "execute_result",
          "data": {
            "text/plain": [
              "KeysView(<numpy.lib.npyio.NpzFile object at 0x7feaa9c39750>)"
            ]
          },
          "metadata": {},
          "execution_count": 195
        }
      ]
    },
    {
      "cell_type": "code",
      "source": [
        "my_arrays[\"my_a\"]"
      ],
      "metadata": {
        "id": "KoTjvOf48YlC",
        "colab": {
          "base_uri": "https://localhost:8080/"
        },
        "outputId": "465af347-7975-432a-e85e-94968f3ff934"
      },
      "execution_count": 196,
      "outputs": [
        {
          "output_type": "execute_result",
          "data": {
            "text/plain": [
              "array([[0.34084314, 0.02653759],\n",
              "       [0.0191054 , 0.02939758],\n",
              "       [0.81362045, 0.9192001 ],\n",
              "       [0.32242715, 0.52542865]])"
            ]
          },
          "metadata": {},
          "execution_count": 196
        }
      ]
    }
  ]
}